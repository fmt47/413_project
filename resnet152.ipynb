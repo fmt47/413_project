{
 "cells": [
  {
   "attachments": {},
   "cell_type": "markdown",
   "metadata": {},
   "source": [
    "# Resnet152 model for Covid-19 classification"
   ]
  },
  {
   "attachments": {},
   "cell_type": "markdown",
   "metadata": {},
   "source": [
    "### Import packages"
   ]
  },
  {
   "cell_type": "code",
   "execution_count": 1,
   "metadata": {},
   "outputs": [],
   "source": [
    "import torch\n",
    "import torch.nn as nn\n",
    "import torch.optim as optim\n",
    "import torch.nn.functional as F\n",
    "import torch.utils.data as data\n",
    "from torch.utils.data import Dataset, DataLoader\n",
    "from torchvision import transforms, models\n",
    "\n",
    "from PIL import Image\n",
    "import os\n",
    "import matplotlib.pyplot as plt\n",
    "\n",
    "from tqdm import tqdm\n",
    "import time\n",
    "import datetime\n"
   ]
  },
  {
   "cell_type": "code",
   "execution_count": 2,
   "metadata": {},
   "outputs": [],
   "source": [
    "def format_time(elapsed):\n",
    "    elapsed_rounded = int(round(elapsed, 2))\n",
    "    return str(datetime.timedelta(seconds=elapsed_rounded))"
   ]
  },
  {
   "attachments": {},
   "cell_type": "markdown",
   "metadata": {},
   "source": [
    "### Dataset Parser"
   ]
  },
  {
   "cell_type": "code",
   "execution_count": 3,
   "metadata": {},
   "outputs": [],
   "source": [
    "class COVIDDataset(Dataset):\n",
    "    def __init__(self, data_file, transform=None):\n",
    "        self.data = []\n",
    "        self.transform = transform\n",
    "        self.map = {'negative': 0, 'positive': 1}\n",
    "        \n",
    "        with open(data_file, 'r') as f:\n",
    "            folder = os.path.splitext(data_file)[0]\n",
    "            for line in f:\n",
    "                patient_id, filename, label, data_source = line.strip().split(' ')\n",
    "                image_path = os.path.join(folder, filename)\n",
    "                self.data.append((image_path ,self.map[label]))\n",
    "                \n",
    "    def __len__(self):\n",
    "        return len(self.data)\n",
    "    \n",
    "    def __getitem__(self, index):\n",
    "        image_path, label = self.data[index]\n",
    "        image = Image.open(image_path)\n",
    "        if self.transform is not None:\n",
    "            image = self.transform(image)\n",
    "        return image, label"
   ]
  },
  {
   "attachments": {},
   "cell_type": "markdown",
   "metadata": {},
   "source": [
    "### Create Model"
   ]
  },
  {
   "cell_type": "code",
   "execution_count": 4,
   "metadata": {},
   "outputs": [],
   "source": [
    "# Define the modified ResNet152 model\n",
    "class ModifiedResNet152(nn.Module):\n",
    "    def __init__(self, num_classes=2, pretrained=True):\n",
    "        super(ModifiedResNet152, self).__init__()\n",
    "        if pretrained:\n",
    "            self.resnet = models.resnet152(weights=models.ResNet152_Weights.DEFAULT)\n",
    "        else:\n",
    "            self.resnet = models.resnet152()\n",
    "        self.resnet.avgpool = nn.AdaptiveAvgPool2d(output_size=(1, 1))\n",
    "        self.resnet.fc = nn.Sequential(\n",
    "            nn.Linear(in_features=2048, out_features=1024),\n",
    "            nn.ReLU(inplace=True),\n",
    "            nn.Linear(in_features=1024, out_features=num_classes),\n",
    "            nn.LogSoftmax(dim=1)\n",
    "        )\n",
    "\n",
    "    def forward(self, x):\n",
    "        x = self.resnet(x)\n",
    "        return x\n",
    "    \n",
    "\n",
    "def train(model, train_loader, optimizer, criterion, device, mse=False):\n",
    "    model.train()\n",
    "    train_loss = 0.\n",
    "    correct = 0.\n",
    "    total = 0.\n",
    "    print(f'Loading # {len(train_loader)} datas')\n",
    "    \n",
    "    with tqdm(train_loader, unit='batch') as tepoch:\n",
    "        for data, target in tepoch:\n",
    "            tepoch.set_description(f\"Training\")\n",
    "            data, target = data.to(device), target.to(device)\n",
    "\n",
    "            # instead of  optimizer.zero_grad(), do it in forloop for more efficiency\n",
    "            for param in model.parameters():\n",
    "                param.grad = None\n",
    "\n",
    "            output = model(data)\n",
    "            if not mse:\n",
    "                loss = criterion(output, target)\n",
    "            else:\n",
    "                target_one_hot = torch.zeros(target.shape[0], 2).to(device)\n",
    "                target_one_hot.scatter_(1, target.unsqueeze(1), 1)\n",
    "                loss = criterion(output, target_one_hot.to(device))\n",
    "            loss.backward()\n",
    "            optimizer.step()\n",
    "            \n",
    "            train_loss += loss.item()\n",
    "            _, predicted = output.max(1)\n",
    "            total += target.size(0)\n",
    "            correct += predicted.eq(target).sum().item()\n",
    "        \n",
    "    acc = 100.*correct/total\n",
    "    return train_loss, acc\n",
    "\n",
    "def validate(model, val_loader, criterion, device, mse=False):\n",
    "    model.eval()\n",
    "    val_loss = 0.\n",
    "    correct = 0.\n",
    "    total = 0.\n",
    "    false_positive = 0\n",
    "    false_negative = 0\n",
    "    true_positive = 0\n",
    "    true_negative = 0\n",
    "    \n",
    "    with torch.no_grad():\n",
    "        with tqdm(val_loader, unit='batch') as tepoch:\n",
    "            for data, target in tepoch:\n",
    "                tepoch.set_description(f\"Validating\")\n",
    "                data, target = data.to(device), target.to(device)\n",
    "                output = model(data)\n",
    "                if not mse:\n",
    "                    val_loss += criterion(output, target).item()\n",
    "                else:\n",
    "                    target_one_hot = torch.zeros(target.shape[0], 2).to(device)\n",
    "                    target_one_hot.scatter_(1, target.unsqueeze(1), 1)\n",
    "                    val_loss += criterion(output, target_one_hot.to(device))\n",
    "                _, predicted = output.max(1)\n",
    "                total += target.size(0)\n",
    "                false_positive += ((predicted == 1) & (target == 0)).sum().item()\n",
    "                false_negative += ((predicted == 0) & (target == 1)).sum().item()\n",
    "                true_negative += ((predicted == 0) & (target == 0)).sum().item()\n",
    "                true_positive += ((predicted == 1) & (target == 1)).sum().item()\n",
    "    correct = true_positive + true_negative\n",
    "    sensitivity = true_positive / (true_positive + false_negative)\n",
    "    specificity = true_negative / (true_negative + false_positive)\n",
    "    f1_score = 2 * true_positive / (2 * true_positive + false_positive + false_negative)\n",
    "    print(f'Validation loss: {val_loss:.4f}, Accuracy: {correct}/{total} ({100.*correct/total:.2f}%), Sensitivity: {sensitivity:.2f}, Specificity: {specificity:.2f}, F1 score: {f1_score:.2f}')\n",
    "    acc = 100.*correct/total\n",
    "    return val_loss, acc, sensitivity, specificity, f1_score\n"
   ]
  },
  {
   "cell_type": "code",
   "execution_count": 5,
   "metadata": {},
   "outputs": [],
   "source": [
    "def train_resnet(model, dataset, lr, epochs, batch_size, factor, patience, criterion, device, pretrain, state_for='unprovided', mse=False):\n",
    "    \"\"\"Train the model on the dataset and return the best accuracy\n",
    "    \n",
    "    Args:\n",
    "        model: the model to train\n",
    "        dataset: the dataset to train on\n",
    "        lr: learning rate\n",
    "        epochs: number of epochs to train for\n",
    "        batch_size: batch size\n",
    "        factor: factor for ReduceLROnPlateau\n",
    "        patience: patience for ReduceLROnPlateau\n",
    "        criterion: loss function\n",
    "        device: device to train on (cuda or cpu)\n",
    "        \n",
    "    Returns:\n",
    "        best_acc: best accuracy achieved\n",
    "    \"\"\"\n",
    "    PRETRAIN = 'finetune' if pretrain else 'wo_pretrain'\n",
    "    print(f\"Using device: {device}\")\n",
    "    # get size of dataset\n",
    "    dataset_size = len(dataset)\n",
    "    print(f\"Dataset size: {dataset_size}\")\n",
    "    # split dataset into train and validation sets\n",
    "    train_size = int(0.8 * dataset_size)\n",
    "    val_size = dataset_size - train_size\n",
    "    train_dataset, val_dataset = data.random_split(dataset, [train_size, val_size])\n",
    "\n",
    "    train_loader = DataLoader(train_dataset, batch_size=batch_size,\n",
    "                            shuffle=True)\n",
    "    val_loader = DataLoader(val_dataset, batch_size=batch_size,\n",
    "                            shuffle=False)\n",
    "    \n",
    "    optimizer = torch.optim.Adam(model.parameters(), lr=lr)\n",
    "    scheduler = optim.lr_scheduler.ReduceLROnPlateau(optimizer, factor=factor, patience=patience, verbose=True)\n",
    "    # record training and validation losses and accuracies\n",
    "    train_losses = []\n",
    "    val_losses = []\n",
    "    train_accs = []\n",
    "    val_accs = []\n",
    "    best_acc = 0\n",
    "    best_epoch = 0\n",
    "    model_state_path = \"\"\n",
    "\n",
    "    start = time.time()\n",
    "    print(f\"Began training for {epochs} epochs\")\n",
    "    for epoch in range(epochs):\n",
    "        print(f'Training (Epoch {epoch + 1})')\n",
    "        torch.cuda.empty_cache()\n",
    "        t0 = time.time()\n",
    "        train_loss, train_acc = train(model, train_loader, optimizer, criterion, device, mse)\n",
    "        print(\"  * Training epoch took: {:}\".format(format_time(time.time() - t0)))\n",
    "        \n",
    "        t0 = time.time()\n",
    "        val_loss, val_acc, val_sen, val_spec, val_f1 = validate(model, val_loader, criterion, device, mse)\n",
    "        print(\"  * Validation took: {:}\".format(format_time(time.time() - t0)))\n",
    "\n",
    "        # record training and validation losses and accuracies\n",
    "        train_losses.append(train_loss)\n",
    "        val_losses.append(val_loss)\n",
    "        train_accs.append(train_acc)\n",
    "        val_accs.append(val_acc)\n",
    "        \n",
    "        scheduler.step(val_loss)\n",
    "\n",
    "        print(f'Epoch {epoch + 1}, Train Loss: {train_loss:.4f}, Train Acc: {train_acc:.2f}, Val Loss: {val_loss:.4f}, Val Acc: {val_acc:.3f}\\nVal Sensitivity: {val_sen:.3f}, Val Specificity: {val_spec:.3f}, Val F1 score: {val_f1:.3f}')\n",
    "        \n",
    "        if val_acc > best_acc:\n",
    "            best_acc = val_acc\n",
    "            best_epoch = epoch + 1\n",
    "            model_state_path = f'{state_for}_{PRETRAIN}_resnet152.pt'\n",
    "            torch.save(model.state_dict(), model_state_path)\n",
    "    \n",
    "    print(\"Training complete in {}\".format(format_time(time.time() - start)))\n",
    "    print(\"Best validation accuracy: {:.2f}% -- Acquired with epoch {}\".format(best_acc, best_epoch))\n",
    "\n",
    "    return train_losses, val_losses, train_accs, val_accs, model_state_path"
   ]
  },
  {
   "attachments": {},
   "cell_type": "markdown",
   "metadata": {},
   "source": [
    "### Begin Training process for RESNET152"
   ]
  },
  {
   "cell_type": "code",
   "execution_count": 6,
   "metadata": {},
   "outputs": [],
   "source": [
    "# Set up hyperparameters for the model\n",
    "# Set up hyperparameters and data loaders\n",
    "# TUNABLE:\n",
    "lr = 2e-4\n",
    "# TUNABLE:\n",
    "epochs = 10\n",
    "# TUNABLE: original 64\n",
    "batch_size = 16\n",
    "# TUNABLE:\n",
    "factor = 0.7\n",
    "# TUNABLE:\n",
    "patience = 5\n",
    "# set the model with pretrained weight or not\n",
    "pretrain = True \n",
    "\n",
    "num_classes = 2\n",
    "device = torch.device('cuda' if torch.cuda.is_available() else 'cpu')\n",
    "# # Define the transformations to be applied to the data\n",
    "target_size = 224\n",
    "transform = transforms.Compose([\n",
    "        transforms.Grayscale(num_output_channels=3),\n",
    "        transforms.Resize(target_size),\n",
    "        transforms.CenterCrop(target_size),\n",
    "        transforms.ToTensor(),\n",
    "        transforms.Normalize([0.485, 0.456, 0.406], [0.229, 0.224, 0.225])\n",
    "])\n",
    "# create COVIDDataset object\n",
    "# TUNABLE: --> can try different datasets\n",
    "dataset = COVIDDataset('train.txt', transform=transform)\n",
    "\n",
    "# Define the model, loss function\n",
    "model = ModifiedResNet152(num_classes, pretrained=pretrain).to(device) # pretrained=True\n",
    "\n",
    "# TUNABLE:\n",
    "criterion = nn.CrossEntropyLoss()\n",
    "optimizer = torch.optim.Adam(model.parameters(), lr=lr)\n",
    "state_for = 'ADAM+CE'\n",
    "\n",
    "# criterion = nn.functional.mse_loss\n",
    "# optimizer = torch.optim.Adam(model.parameters(), lr=lr)\n",
    "# state_for = 'ADAM+MSE'\n",
    "\n",
    "# criterion = nn.NLLLoss()\n",
    "# optimizer = torch.optim.Adam(model.parameters(), lr=lr)\n",
    "# state_for = 'ADAM+NLL'\n",
    "\n",
    "# criterion = nn.CrossEntropyLoss()\n",
    "# optimizer = torch.optim.SGD(model.parameters(), lr=lr, momentum=0.9)\n",
    "# state_for = 'SGD'\n",
    "\n",
    "# criterion = nn.CrossEntropyLoss()\n",
    "# optimizer = torch.optim.RMSprop(model.parameters(), lr=lr)\n",
    "# state_for = 'RMSPROP'\n",
    "\n",
    "# criterion = nn.CrossEntropyLoss()\n",
    "# optimizer = torch.optim.Adadelta(model.parameters(), lr=1.0, rho=0.9, eps=1e-06, weight_decay=0)\n",
    "# state_for = 'ADADelta'\n",
    "\n",
    "# criterion = nn.CrossEntropyLoss()\n",
    "# optimizer = torch.optim.AdamW(model.parameters(), lr=lr)\n",
    "# state_for = 'AdamW'\n",
    "\n",
    "\n",
    "\n",
    "# # Use the pretrained Resnet152. Load the trained ResNet152 model\n",
    "# model = models.resnet152(weights=models.ResNet152_Weights.DEFAULT)\n",
    "# model.fc = torch.nn.Sequential(\n",
    "#     torch.nn.Linear(2048, 1024),\n",
    "#     torch.nn.ReLU(),\n",
    "#     # torch.nn.Linear(1024, 2),\n",
    "#     torch.nn.LogSoftmax(dim=1)\n",
    "# )\n",
    "\n",
    "# # Set the model to evaluation mode\n",
    "# model.eval()\n",
    "\n",
    "# # Initialize an empty tensor to store the features for all images\n",
    "# all_features = torch.empty(len(dataset), 1024)\n",
    "\n",
    "# # Pass each batch of images through the model to obtain the features\n",
    "# with torch.no_grad():\n",
    "#     start_index = 0\n",
    "#     for images, _ in tqdm(train_loader):\n",
    "#         batch_size = images.shape[0]\n",
    "#         features = model(images)\n",
    "#         all_features[start_index:start_index+batch_size,:] = features\n",
    "#         start_index += batch_size\n"
   ]
  },
  {
   "cell_type": "code",
   "execution_count": 7,
   "metadata": {},
   "outputs": [
    {
     "name": "stdout",
     "output_type": "stream",
     "text": [
      "Using device: cuda\n",
      "Dataset size: 29986\n",
      "Began training for 10 epochs\n",
      "Training (Epoch 1)\n",
      "Loading # 1500 datas\n"
     ]
    },
    {
     "name": "stderr",
     "output_type": "stream",
     "text": [
      "Training: 100%|██████████| 1500/1500 [17:33<00:00,  1.42batch/s]\n"
     ]
    },
    {
     "name": "stdout",
     "output_type": "stream",
     "text": [
      "  * Training epoch took: 0:17:33\n"
     ]
    },
    {
     "name": "stderr",
     "output_type": "stream",
     "text": [
      "Validating: 100%|██████████| 375/375 [03:09<00:00,  1.98batch/s]\n"
     ]
    },
    {
     "name": "stdout",
     "output_type": "stream",
     "text": [
      "Validation loss: 587.3041, Accuracy: 5902/5998.0 (98.40%), Sensitivity: 0.99, Specificity: 0.98, F1 score: 0.99\n",
      "  * Validation took: 0:03:09\n",
      "Epoch 1, Train Loss: 2357.7884, Train Acc: 97.13, Val Loss: 587.3041, Val Acc: 98.399\n",
      "Val Sensitivity: 0.991, Val Specificity: 0.976, Val F1 score: 0.985\n",
      "Training (Epoch 2)\n",
      "Loading # 1500 datas\n"
     ]
    },
    {
     "name": "stderr",
     "output_type": "stream",
     "text": [
      "Training: 100%|██████████| 1500/1500 [11:05<00:00,  2.26batch/s]\n"
     ]
    },
    {
     "name": "stdout",
     "output_type": "stream",
     "text": [
      "  * Training epoch took: 0:11:05\n"
     ]
    },
    {
     "name": "stderr",
     "output_type": "stream",
     "text": [
      "Validating: 100%|██████████| 375/375 [02:06<00:00,  2.97batch/s]\n"
     ]
    },
    {
     "name": "stdout",
     "output_type": "stream",
     "text": [
      "Validation loss: 587.6389, Accuracy: 5890/5998.0 (98.20%), Sensitivity: 0.98, Specificity: 0.98, F1 score: 0.98\n",
      "  * Validation took: 0:02:06\n",
      "Epoch 2, Train Loss: 2350.0967, Train Acc: 98.30, Val Loss: 587.6389, Val Acc: 98.199\n",
      "Val Sensitivity: 0.984, Val Specificity: 0.980, Val F1 score: 0.983\n",
      "Training (Epoch 3)\n",
      "Loading # 1500 datas\n"
     ]
    },
    {
     "name": "stderr",
     "output_type": "stream",
     "text": [
      "Training: 100%|██████████| 1500/1500 [10:40<00:00,  2.34batch/s]\n"
     ]
    },
    {
     "name": "stdout",
     "output_type": "stream",
     "text": [
      "  * Training epoch took: 0:10:40\n"
     ]
    },
    {
     "name": "stderr",
     "output_type": "stream",
     "text": [
      "Validating: 100%|██████████| 375/375 [01:29<00:00,  4.17batch/s]\n"
     ]
    },
    {
     "name": "stdout",
     "output_type": "stream",
     "text": [
      "Validation loss: 587.2017, Accuracy: 5904/5998.0 (98.43%), Sensitivity: 0.99, Specificity: 0.97, F1 score: 0.99\n",
      "  * Validation took: 0:01:29\n",
      "Epoch 3, Train Loss: 2347.1892, Train Acc: 98.77, Val Loss: 587.2017, Val Acc: 98.433\n",
      "Val Sensitivity: 0.993, Val Specificity: 0.975, Val F1 score: 0.985\n",
      "Training (Epoch 4)\n",
      "Loading # 1500 datas\n"
     ]
    },
    {
     "name": "stderr",
     "output_type": "stream",
     "text": [
      "Training: 100%|██████████| 1500/1500 [08:55<00:00,  2.80batch/s]\n"
     ]
    },
    {
     "name": "stdout",
     "output_type": "stream",
     "text": [
      "  * Training epoch took: 0:08:55\n"
     ]
    },
    {
     "name": "stderr",
     "output_type": "stream",
     "text": [
      "Validating: 100%|██████████| 375/375 [01:30<00:00,  4.14batch/s]\n"
     ]
    },
    {
     "name": "stdout",
     "output_type": "stream",
     "text": [
      "Validation loss: 589.6378, Accuracy: 5801/5998.0 (96.72%), Sensitivity: 0.97, Specificity: 0.97, F1 score: 0.97\n",
      "  * Validation took: 0:01:30\n",
      "Epoch 4, Train Loss: 2346.3825, Train Acc: 98.88, Val Loss: 589.6378, Val Acc: 96.716\n",
      "Val Sensitivity: 0.967, Val Specificity: 0.967, Val F1 score: 0.969\n",
      "Training (Epoch 5)\n",
      "Loading # 1500 datas\n"
     ]
    },
    {
     "name": "stderr",
     "output_type": "stream",
     "text": [
      "Training: 100%|██████████| 1500/1500 [08:58<00:00,  2.78batch/s]\n"
     ]
    },
    {
     "name": "stdout",
     "output_type": "stream",
     "text": [
      "  * Training epoch took: 0:08:58\n"
     ]
    },
    {
     "name": "stderr",
     "output_type": "stream",
     "text": [
      "Validating: 100%|██████████| 375/375 [01:31<00:00,  4.11batch/s]\n"
     ]
    },
    {
     "name": "stdout",
     "output_type": "stream",
     "text": [
      "Validation loss: 587.0174, Accuracy: 5910/5998.0 (98.53%), Sensitivity: 0.98, Specificity: 0.99, F1 score: 0.99\n",
      "  * Validation took: 0:01:31\n",
      "Epoch 5, Train Loss: 2345.0624, Train Acc: 99.11, Val Loss: 587.0174, Val Acc: 98.533\n",
      "Val Sensitivity: 0.983, Val Specificity: 0.988, Val F1 score: 0.986\n",
      "Training (Epoch 6)\n",
      "Loading # 1500 datas\n"
     ]
    },
    {
     "name": "stderr",
     "output_type": "stream",
     "text": [
      "Training: 100%|██████████| 1500/1500 [09:00<00:00,  2.78batch/s]\n"
     ]
    },
    {
     "name": "stdout",
     "output_type": "stream",
     "text": [
      "  * Training epoch took: 0:09:00\n"
     ]
    },
    {
     "name": "stderr",
     "output_type": "stream",
     "text": [
      "Validating: 100%|██████████| 375/375 [01:30<00:00,  4.14batch/s]\n"
     ]
    },
    {
     "name": "stdout",
     "output_type": "stream",
     "text": [
      "Validation loss: 587.6156, Accuracy: 5878/5998.0 (98.00%), Sensitivity: 1.00, Specificity: 0.96, F1 score: 0.98\n",
      "  * Validation took: 0:01:30\n",
      "Epoch 6, Train Loss: 2344.4209, Train Acc: 99.18, Val Loss: 587.6156, Val Acc: 97.999\n",
      "Val Sensitivity: 0.996, Val Specificity: 0.961, Val F1 score: 0.982\n",
      "Training (Epoch 7)\n",
      "Loading # 1500 datas\n"
     ]
    },
    {
     "name": "stderr",
     "output_type": "stream",
     "text": [
      "Training: 100%|██████████| 1500/1500 [09:00<00:00,  2.77batch/s]\n"
     ]
    },
    {
     "name": "stdout",
     "output_type": "stream",
     "text": [
      "  * Training epoch took: 0:09:00\n"
     ]
    },
    {
     "name": "stderr",
     "output_type": "stream",
     "text": [
      "Validating: 100%|██████████| 375/375 [01:32<00:00,  4.06batch/s]\n"
     ]
    },
    {
     "name": "stdout",
     "output_type": "stream",
     "text": [
      "Validation loss: 587.9381, Accuracy: 5863/5998.0 (97.75%), Sensitivity: 0.98, Specificity: 0.98, F1 score: 0.98\n",
      "  * Validation took: 0:01:32\n",
      "Epoch 7, Train Loss: 2343.1419, Train Acc: 99.46, Val Loss: 587.9381, Val Acc: 97.749\n",
      "Val Sensitivity: 0.975, Val Specificity: 0.980, Val F1 score: 0.979\n",
      "Training (Epoch 8)\n",
      "Loading # 1500 datas\n"
     ]
    },
    {
     "name": "stderr",
     "output_type": "stream",
     "text": [
      "Training: 100%|██████████| 1500/1500 [08:55<00:00,  2.80batch/s]\n"
     ]
    },
    {
     "name": "stdout",
     "output_type": "stream",
     "text": [
      "  * Training epoch took: 0:08:55\n"
     ]
    },
    {
     "name": "stderr",
     "output_type": "stream",
     "text": [
      "Validating: 100%|██████████| 375/375 [01:30<00:00,  4.14batch/s]\n"
     ]
    },
    {
     "name": "stdout",
     "output_type": "stream",
     "text": [
      "Validation loss: 586.6254, Accuracy: 5934/5998.0 (98.93%), Sensitivity: 0.99, Specificity: 0.99, F1 score: 0.99\n",
      "  * Validation took: 0:01:30\n",
      "Epoch 8, Train Loss: 2342.8748, Train Acc: 99.47, Val Loss: 586.6254, Val Acc: 98.933\n",
      "Val Sensitivity: 0.988, Val Specificity: 0.991, Val F1 score: 0.990\n",
      "Training (Epoch 9)\n",
      "Loading # 1500 datas\n"
     ]
    },
    {
     "name": "stderr",
     "output_type": "stream",
     "text": [
      "Training: 100%|██████████| 1500/1500 [08:55<00:00,  2.80batch/s]\n"
     ]
    },
    {
     "name": "stdout",
     "output_type": "stream",
     "text": [
      "  * Training epoch took: 0:08:55\n"
     ]
    },
    {
     "name": "stderr",
     "output_type": "stream",
     "text": [
      "Validating: 100%|██████████| 375/375 [01:30<00:00,  4.16batch/s]\n"
     ]
    },
    {
     "name": "stdout",
     "output_type": "stream",
     "text": [
      "Validation loss: 586.8544, Accuracy: 5915/5998.0 (98.62%), Sensitivity: 0.99, Specificity: 0.98, F1 score: 0.99\n",
      "  * Validation took: 0:01:30\n",
      "Epoch 9, Train Loss: 2342.2212, Train Acc: 99.60, Val Loss: 586.8544, Val Acc: 98.616\n",
      "Val Sensitivity: 0.995, Val Specificity: 0.976, Val F1 score: 0.987\n",
      "Training (Epoch 10)\n",
      "Loading # 1500 datas\n"
     ]
    },
    {
     "name": "stderr",
     "output_type": "stream",
     "text": [
      "Training: 100%|██████████| 1500/1500 [08:55<00:00,  2.80batch/s]\n"
     ]
    },
    {
     "name": "stdout",
     "output_type": "stream",
     "text": [
      "  * Training epoch took: 0:08:55\n"
     ]
    },
    {
     "name": "stderr",
     "output_type": "stream",
     "text": [
      "Validating: 100%|██████████| 375/375 [01:30<00:00,  4.15batch/s]"
     ]
    },
    {
     "name": "stdout",
     "output_type": "stream",
     "text": [
      "Validation loss: 586.6297, Accuracy: 5926/5998.0 (98.80%), Sensitivity: 0.99, Specificity: 0.99, F1 score: 0.99\n",
      "  * Validation took: 0:01:30\n",
      "Epoch 10, Train Loss: 2341.8239, Train Acc: 99.66, Val Loss: 586.6297, Val Acc: 98.800\n",
      "Val Sensitivity: 0.987, Val Specificity: 0.989, Val F1 score: 0.989\n",
      "Training complete in 1:59:24\n",
      "Best validation accuracy: 98.93% -- Acquired with epoch 8\n"
     ]
    },
    {
     "name": "stderr",
     "output_type": "stream",
     "text": [
      "\n"
     ]
    }
   ],
   "source": [
    "# Train the model\n",
    "train_losses, val_losses, train_accs, val_accs, model_state_path = train_resnet(model, dataset, lr, epochs, batch_size, factor, patience, criterion, device, pretrain, state_for)"
   ]
  },
  {
   "attachments": {},
   "cell_type": "markdown",
   "metadata": {},
   "source": [
    "### Plot the loss and accuracy"
   ]
  },
  {
   "cell_type": "code",
   "execution_count": 8,
   "metadata": {},
   "outputs": [
    {
     "ename": "TypeError",
     "evalue": "can't convert cuda:0 device type tensor to numpy. Use Tensor.cpu() to copy the tensor to host memory first.",
     "output_type": "error",
     "traceback": [
      "\u001b[1;31m---------------------------------------------------------------------------\u001b[0m",
      "\u001b[1;31mTypeError\u001b[0m                                 Traceback (most recent call last)",
      "Cell \u001b[1;32mIn[8], line 10\u001b[0m\n\u001b[0;32m      8\u001b[0m plt\u001b[39m.\u001b[39mtitle(\u001b[39m\"\u001b[39m\u001b[39mLoss (Original ResNet152)\u001b[39m\u001b[39m\"\u001b[39m)\n\u001b[0;32m      9\u001b[0m plt\u001b[39m.\u001b[39mplot(train_losses, label\u001b[39m=\u001b[39m\u001b[39m'\u001b[39m\u001b[39mTraining loss\u001b[39m\u001b[39m'\u001b[39m)\n\u001b[1;32m---> 10\u001b[0m plt\u001b[39m.\u001b[39;49mplot(val_losses, label\u001b[39m=\u001b[39;49m\u001b[39m'\u001b[39;49m\u001b[39mValidation loss\u001b[39;49m\u001b[39m'\u001b[39;49m)\n\u001b[0;32m     11\u001b[0m plt\u001b[39m.\u001b[39mlegend()\n\u001b[0;32m     12\u001b[0m plt\u001b[39m.\u001b[39msubplot(\u001b[39m1\u001b[39m, \u001b[39m2\u001b[39m, \u001b[39m2\u001b[39m)\n",
      "File \u001b[1;32md:\\git repo\\413_project\\csc413proj_venv\\lib\\site-packages\\matplotlib\\pyplot.py:2812\u001b[0m, in \u001b[0;36mplot\u001b[1;34m(scalex, scaley, data, *args, **kwargs)\u001b[0m\n\u001b[0;32m   2810\u001b[0m \u001b[39m@_copy_docstring_and_deprecators\u001b[39m(Axes\u001b[39m.\u001b[39mplot)\n\u001b[0;32m   2811\u001b[0m \u001b[39mdef\u001b[39;00m \u001b[39mplot\u001b[39m(\u001b[39m*\u001b[39margs, scalex\u001b[39m=\u001b[39m\u001b[39mTrue\u001b[39;00m, scaley\u001b[39m=\u001b[39m\u001b[39mTrue\u001b[39;00m, data\u001b[39m=\u001b[39m\u001b[39mNone\u001b[39;00m, \u001b[39m*\u001b[39m\u001b[39m*\u001b[39mkwargs):\n\u001b[1;32m-> 2812\u001b[0m     \u001b[39mreturn\u001b[39;00m gca()\u001b[39m.\u001b[39mplot(\n\u001b[0;32m   2813\u001b[0m         \u001b[39m*\u001b[39margs, scalex\u001b[39m=\u001b[39mscalex, scaley\u001b[39m=\u001b[39mscaley,\n\u001b[0;32m   2814\u001b[0m         \u001b[39m*\u001b[39m\u001b[39m*\u001b[39m({\u001b[39m\"\u001b[39m\u001b[39mdata\u001b[39m\u001b[39m\"\u001b[39m: data} \u001b[39mif\u001b[39;00m data \u001b[39mis\u001b[39;00m \u001b[39mnot\u001b[39;00m \u001b[39mNone\u001b[39;00m \u001b[39melse\u001b[39;00m {}), \u001b[39m*\u001b[39m\u001b[39m*\u001b[39mkwargs)\n",
      "File \u001b[1;32md:\\git repo\\413_project\\csc413proj_venv\\lib\\site-packages\\matplotlib\\axes\\_axes.py:1688\u001b[0m, in \u001b[0;36mAxes.plot\u001b[1;34m(self, scalex, scaley, data, *args, **kwargs)\u001b[0m\n\u001b[0;32m   1445\u001b[0m \u001b[39m\u001b[39m\u001b[39m\"\"\"\u001b[39;00m\n\u001b[0;32m   1446\u001b[0m \u001b[39mPlot y versus x as lines and/or markers.\u001b[39;00m\n\u001b[0;32m   1447\u001b[0m \n\u001b[1;32m   (...)\u001b[0m\n\u001b[0;32m   1685\u001b[0m \u001b[39m(``'green'``) or hex strings (``'#008000'``).\u001b[39;00m\n\u001b[0;32m   1686\u001b[0m \u001b[39m\"\"\"\u001b[39;00m\n\u001b[0;32m   1687\u001b[0m kwargs \u001b[39m=\u001b[39m cbook\u001b[39m.\u001b[39mnormalize_kwargs(kwargs, mlines\u001b[39m.\u001b[39mLine2D)\n\u001b[1;32m-> 1688\u001b[0m lines \u001b[39m=\u001b[39m [\u001b[39m*\u001b[39m\u001b[39mself\u001b[39m\u001b[39m.\u001b[39m_get_lines(\u001b[39m*\u001b[39margs, data\u001b[39m=\u001b[39mdata, \u001b[39m*\u001b[39m\u001b[39m*\u001b[39mkwargs)]\n\u001b[0;32m   1689\u001b[0m \u001b[39mfor\u001b[39;00m line \u001b[39min\u001b[39;00m lines:\n\u001b[0;32m   1690\u001b[0m     \u001b[39mself\u001b[39m\u001b[39m.\u001b[39madd_line(line)\n",
      "File \u001b[1;32md:\\git repo\\413_project\\csc413proj_venv\\lib\\site-packages\\matplotlib\\axes\\_base.py:311\u001b[0m, in \u001b[0;36m_process_plot_var_args.__call__\u001b[1;34m(self, data, *args, **kwargs)\u001b[0m\n\u001b[0;32m    309\u001b[0m     this \u001b[39m+\u001b[39m\u001b[39m=\u001b[39m args[\u001b[39m0\u001b[39m],\n\u001b[0;32m    310\u001b[0m     args \u001b[39m=\u001b[39m args[\u001b[39m1\u001b[39m:]\n\u001b[1;32m--> 311\u001b[0m \u001b[39myield from\u001b[39;00m \u001b[39mself\u001b[39;49m\u001b[39m.\u001b[39;49m_plot_args(\n\u001b[0;32m    312\u001b[0m     this, kwargs, ambiguous_fmt_datakey\u001b[39m=\u001b[39;49mambiguous_fmt_datakey)\n",
      "File \u001b[1;32md:\\git repo\\413_project\\csc413proj_venv\\lib\\site-packages\\matplotlib\\axes\\_base.py:496\u001b[0m, in \u001b[0;36m_process_plot_var_args._plot_args\u001b[1;34m(self, tup, kwargs, return_kwargs, ambiguous_fmt_datakey)\u001b[0m\n\u001b[0;32m    494\u001b[0m     y \u001b[39m=\u001b[39m _check_1d(xy[\u001b[39m1\u001b[39m])\n\u001b[0;32m    495\u001b[0m \u001b[39melse\u001b[39;00m:\n\u001b[1;32m--> 496\u001b[0m     x, y \u001b[39m=\u001b[39m index_of(xy[\u001b[39m-\u001b[39;49m\u001b[39m1\u001b[39;49m])\n\u001b[0;32m    498\u001b[0m \u001b[39mif\u001b[39;00m \u001b[39mself\u001b[39m\u001b[39m.\u001b[39maxes\u001b[39m.\u001b[39mxaxis \u001b[39mis\u001b[39;00m \u001b[39mnot\u001b[39;00m \u001b[39mNone\u001b[39;00m:\n\u001b[0;32m    499\u001b[0m     \u001b[39mself\u001b[39m\u001b[39m.\u001b[39maxes\u001b[39m.\u001b[39mxaxis\u001b[39m.\u001b[39mupdate_units(x)\n",
      "File \u001b[1;32md:\\git repo\\413_project\\csc413proj_venv\\lib\\site-packages\\matplotlib\\cbook\\__init__.py:1656\u001b[0m, in \u001b[0;36mindex_of\u001b[1;34m(y)\u001b[0m\n\u001b[0;32m   1654\u001b[0m     \u001b[39mpass\u001b[39;00m\n\u001b[0;32m   1655\u001b[0m \u001b[39mtry\u001b[39;00m:\n\u001b[1;32m-> 1656\u001b[0m     y \u001b[39m=\u001b[39m _check_1d(y)\n\u001b[0;32m   1657\u001b[0m \u001b[39mexcept\u001b[39;00m (np\u001b[39m.\u001b[39mVisibleDeprecationWarning, \u001b[39mValueError\u001b[39;00m):\n\u001b[0;32m   1658\u001b[0m     \u001b[39m# NumPy 1.19 will warn on ragged input, and we can't actually use it.\u001b[39;00m\n\u001b[0;32m   1659\u001b[0m     \u001b[39mpass\u001b[39;00m\n",
      "File \u001b[1;32md:\\git repo\\413_project\\csc413proj_venv\\lib\\site-packages\\matplotlib\\cbook\\__init__.py:1348\u001b[0m, in \u001b[0;36m_check_1d\u001b[1;34m(x)\u001b[0m\n\u001b[0;32m   1342\u001b[0m \u001b[39m# plot requires `shape` and `ndim`.  If passed an\u001b[39;00m\n\u001b[0;32m   1343\u001b[0m \u001b[39m# object that doesn't provide them, then force to numpy array.\u001b[39;00m\n\u001b[0;32m   1344\u001b[0m \u001b[39m# Note this will strip unit information.\u001b[39;00m\n\u001b[0;32m   1345\u001b[0m \u001b[39mif\u001b[39;00m (\u001b[39mnot\u001b[39;00m \u001b[39mhasattr\u001b[39m(x, \u001b[39m'\u001b[39m\u001b[39mshape\u001b[39m\u001b[39m'\u001b[39m) \u001b[39mor\u001b[39;00m\n\u001b[0;32m   1346\u001b[0m         \u001b[39mnot\u001b[39;00m \u001b[39mhasattr\u001b[39m(x, \u001b[39m'\u001b[39m\u001b[39mndim\u001b[39m\u001b[39m'\u001b[39m) \u001b[39mor\u001b[39;00m\n\u001b[0;32m   1347\u001b[0m         \u001b[39mlen\u001b[39m(x\u001b[39m.\u001b[39mshape) \u001b[39m<\u001b[39m \u001b[39m1\u001b[39m):\n\u001b[1;32m-> 1348\u001b[0m     \u001b[39mreturn\u001b[39;00m np\u001b[39m.\u001b[39;49matleast_1d(x)\n\u001b[0;32m   1349\u001b[0m \u001b[39melse\u001b[39;00m:\n\u001b[0;32m   1350\u001b[0m     \u001b[39mreturn\u001b[39;00m x\n",
      "File \u001b[1;32m<__array_function__ internals>:200\u001b[0m, in \u001b[0;36matleast_1d\u001b[1;34m(*args, **kwargs)\u001b[0m\n",
      "File \u001b[1;32md:\\git repo\\413_project\\csc413proj_venv\\lib\\site-packages\\numpy\\core\\shape_base.py:65\u001b[0m, in \u001b[0;36matleast_1d\u001b[1;34m(*arys)\u001b[0m\n\u001b[0;32m     63\u001b[0m res \u001b[39m=\u001b[39m []\n\u001b[0;32m     64\u001b[0m \u001b[39mfor\u001b[39;00m ary \u001b[39min\u001b[39;00m arys:\n\u001b[1;32m---> 65\u001b[0m     ary \u001b[39m=\u001b[39m asanyarray(ary)\n\u001b[0;32m     66\u001b[0m     \u001b[39mif\u001b[39;00m ary\u001b[39m.\u001b[39mndim \u001b[39m==\u001b[39m \u001b[39m0\u001b[39m:\n\u001b[0;32m     67\u001b[0m         result \u001b[39m=\u001b[39m ary\u001b[39m.\u001b[39mreshape(\u001b[39m1\u001b[39m)\n",
      "File \u001b[1;32md:\\git repo\\413_project\\csc413proj_venv\\lib\\site-packages\\torch\\_tensor.py:970\u001b[0m, in \u001b[0;36mTensor.__array__\u001b[1;34m(self, dtype)\u001b[0m\n\u001b[0;32m    968\u001b[0m     \u001b[39mreturn\u001b[39;00m handle_torch_function(Tensor\u001b[39m.\u001b[39m__array__, (\u001b[39mself\u001b[39m,), \u001b[39mself\u001b[39m, dtype\u001b[39m=\u001b[39mdtype)\n\u001b[0;32m    969\u001b[0m \u001b[39mif\u001b[39;00m dtype \u001b[39mis\u001b[39;00m \u001b[39mNone\u001b[39;00m:\n\u001b[1;32m--> 970\u001b[0m     \u001b[39mreturn\u001b[39;00m \u001b[39mself\u001b[39;49m\u001b[39m.\u001b[39;49mnumpy()\n\u001b[0;32m    971\u001b[0m \u001b[39melse\u001b[39;00m:\n\u001b[0;32m    972\u001b[0m     \u001b[39mreturn\u001b[39;00m \u001b[39mself\u001b[39m\u001b[39m.\u001b[39mnumpy()\u001b[39m.\u001b[39mastype(dtype, copy\u001b[39m=\u001b[39m\u001b[39mFalse\u001b[39;00m)\n",
      "\u001b[1;31mTypeError\u001b[0m: can't convert cuda:0 device type tensor to numpy. Use Tensor.cpu() to copy the tensor to host memory first."
     ]
    },
    {
     "data": {
      "image/png": "[encoded data removed]",
      "text/plain": [
       "<Figure size 1000x500 with 1 Axes>"
      ]
     },
     "metadata": {},
     "output_type": "display_data"
    }
   ],
   "source": [
    "# plot training and validation losses and accuracies\n",
    "now = datetime.datetime.now()\n",
    "now = now.strftime(\"%Y-%m-%d_%H%M%S\")\n",
    "\n",
    "\n",
    "plt.figure(figsize=(10, 5))\n",
    "plt.subplot(1, 2, 1)\n",
    "plt.title(\"Loss (Original ResNet152)\")\n",
    "plt.plot(train_losses, label='Training loss')\n",
    "plt.plot(val_losses, label='Validation loss')\n",
    "plt.legend()\n",
    "plt.subplot(1, 2, 2)\n",
    "plt.title(\"Accuracy (Original ResNet152)\")\n",
    "plt.plot(train_accs, label='Training accuracy')\n",
    "plt.plot(val_accs, label='Validation accuracy')\n",
    "plt.legend()\n",
    "plt.savefig('./resnet_plots/' + f'{state_for}_loss_resnet152_{now}.png')\n",
    "plt.show()"
   ]
  },
  {
   "attachments": {},
   "cell_type": "markdown",
   "metadata": {},
   "source": [
    "### Test the resnet model"
   ]
  },
  {
   "cell_type": "code",
   "execution_count": 9,
   "metadata": {},
   "outputs": [
    {
     "name": "stdout",
     "output_type": "stream",
     "text": [
      "Model ADAM+MSE_finetune_resnet152.pt loaded\n"
     ]
    },
    {
     "name": "stderr",
     "output_type": "stream",
     "text": [
      "Validating: 100%|██████████| 25/25 [00:40<00:00,  1.61s/batch]"
     ]
    },
    {
     "name": "stdout",
     "output_type": "stream",
     "text": [
      "Validation loss: 39.3618, Accuracy: 387/400.0 (96.75%), Sensitivity: 0.94, Specificity: 1.00, F1 score: 0.97\n",
      "Test loss: 39.3618, Test accuracy: 96.750%, Test sensitivity: 0.935%, Test specificity: 1.000%, Test F1 score: 0.966%\n"
     ]
    },
    {
     "name": "stderr",
     "output_type": "stream",
     "text": [
      "\n"
     ]
    }
   ],
   "source": [
    "# test data\n",
    "test_dataset = COVIDDataset('test.txt', transform=transform)\n",
    "test_loader = DataLoader(test_dataset, batch_size=batch_size, shuffle=False)\n",
    "\n",
    "model_path = model_state_path\n",
    "# model_path = 'RMSPROP_finetune_resnet152.pt'\n",
    "\n",
    "# load best model\n",
    "model.load_state_dict(torch.load(model_path))\n",
    "print(f'Model {model_path} loaded')\n",
    "# evaluate model on test set\n",
    "test_loss, test_acc, test_sen, test_spec, test_f1 = validate(model, test_loader, criterion, device)\n",
    "print(f'Test loss: {test_loss:.4f}, Test accuracy: {test_acc:.3f}%, Test sensitivity: {test_sen:.3f}%, Test specificity: {test_spec:.3f}%, Test F1 score: {test_f1:.3f}%')"
   ]
  }
 ],
 "metadata": {
  "kernelspec": {
   "display_name": "csc413proj_venv",
   "language": "python",
   "name": "python3"
  },
  "language_info": {
   "codemirror_mode": {
    "name": "ipython",
    "version": 3
   },
   "file_extension": ".py",
   "mimetype": "text/x-python",
   "name": "python",
   "nbconvert_exporter": "python",
   "pygments_lexer": "ipython3",
   "version": "3.9.13"
  },
  "orig_nbformat": 4
 },
 "nbformat": 4,
 "nbformat_minor": 2
}
