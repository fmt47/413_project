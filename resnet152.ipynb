{
 "cells": [
  {
   "attachments": {},
   "cell_type": "markdown",
   "metadata": {},
   "source": [
    "# Resnet152 model for Covid-19 classification"
   ]
  },
  {
   "attachments": {},
   "cell_type": "markdown",
   "metadata": {},
   "source": [
    "### Import packages"
   ]
  },
  {
   "cell_type": "code",
   "execution_count": 49,
   "metadata": {},
   "outputs": [],
   "source": [
    "import torch\n",
    "import torch.nn as nn\n",
    "import torch.optim as optim\n",
    "import torch.nn.functional as F\n",
    "import torch.utils.data as data\n",
    "from torch.utils.data import Dataset, DataLoader\n",
    "from torchvision import transforms, models\n",
    "\n",
    "from PIL import Image\n",
    "import os\n",
    "import matplotlib.pyplot as plt\n",
    "\n",
    "from tqdm import tqdm\n",
    "import time\n",
    "import datetime\n"
   ]
  },
  {
   "cell_type": "code",
   "execution_count": 50,
   "metadata": {},
   "outputs": [],
   "source": [
    "def format_time(elapsed):\n",
    "    elapsed_rounded = int(round(elapsed, 2))\n",
    "    return str(datetime.timedelta(seconds=elapsed_rounded))"
   ]
  },
  {
   "attachments": {},
   "cell_type": "markdown",
   "metadata": {},
   "source": [
    "### Dataset Parser"
   ]
  },
  {
   "cell_type": "code",
   "execution_count": 51,
   "metadata": {},
   "outputs": [],
   "source": [
    "class COVIDDataset(Dataset):\n",
    "    def __init__(self, data_file, transform=None):\n",
    "        self.data = []\n",
    "        self.transform = transform\n",
    "        self.map = {'negative': 0, 'positive': 1}\n",
    "        \n",
    "        with open(data_file, 'r') as f:\n",
    "            folder = os.path.splitext(data_file)[0]\n",
    "            for line in f:\n",
    "                patient_id, filename, label, data_source = line.strip().split(' ')\n",
    "                image_path = os.path.join(folder, filename)\n",
    "                self.data.append((image_path ,self.map[label]))\n",
    "                \n",
    "    def __len__(self):\n",
    "        return len(self.data)\n",
    "    \n",
    "    def __getitem__(self, index):\n",
    "        image_path, label = self.data[index]\n",
    "        image = Image.open(image_path)\n",
    "        if self.transform is not None:\n",
    "            image = self.transform(image)\n",
    "        return image, label"
   ]
  },
  {
   "attachments": {},
   "cell_type": "markdown",
   "metadata": {},
   "source": [
    "### Create Model"
   ]
  },
  {
   "cell_type": "code",
   "execution_count": 79,
   "metadata": {},
   "outputs": [],
   "source": [
    "# Define the modified ResNet152 model\n",
    "class ModifiedResNet152(nn.Module):\n",
    "    def __init__(self, num_classes=2, pretrained=True):\n",
    "        super(ModifiedResNet152, self).__init__()\n",
    "        if pretrained:\n",
    "            self.resnet = models.resnet152(weights=models.ResNet152_Weights.DEFAULT)\n",
    "        else:\n",
    "            self.resnet = models.resnet152()\n",
    "        self.resnet.avgpool = nn.AdaptiveAvgPool2d(output_size=(1, 1))\n",
    "        self.resnet.fc = nn.Sequential(\n",
    "            nn.Linear(in_features=2048, out_features=1024),\n",
    "            nn.ReLU(inplace=True),\n",
    "            nn.Linear(in_features=1024, out_features=num_classes),\n",
    "            nn.LogSoftmax(dim=1)\n",
    "        )\n",
    "\n",
    "    def forward(self, x):\n",
    "        x = self.resnet(x)\n",
    "        return x\n",
    "    \n",
    "\n",
    "def train(model, train_loader, optimizer, criterion, device):\n",
    "    model.train()\n",
    "    train_loss = 0.\n",
    "    correct = 0.\n",
    "    total = 0.\n",
    "    print(f'Loading # {len(train_loader)} datas')\n",
    "    \n",
    "    with tqdm(train_loader, unit='batch') as tepoch:\n",
    "        for data, target in tepoch:\n",
    "            tepoch.set_description(f\"Training\")\n",
    "            data, target = data.to(device), target.to(device)\n",
    "\n",
    "            # instead of  optimizer.zero_grad(), do it in forloop for more efficiency\n",
    "            for param in model.parameters():\n",
    "                param.grad = None\n",
    "\n",
    "            output = model(data)\n",
    "            loss = criterion(output, target)\n",
    "            loss.backward()\n",
    "            optimizer.step()\n",
    "            \n",
    "            train_loss += loss.item()\n",
    "            _, predicted = output.max(1)\n",
    "            total += target.size(0)\n",
    "            correct += predicted.eq(target).sum().item()\n",
    "        \n",
    "    acc = 100.*correct/total\n",
    "    return train_loss, acc\n",
    "\n",
    "def validate(model, val_loader, criterion, device):\n",
    "    model.eval()\n",
    "    val_loss = 0.\n",
    "    correct = 0.\n",
    "    total = 0.\n",
    "    \n",
    "    with torch.no_grad():\n",
    "        with tqdm(val_loader, unit='batch') as tepoch:\n",
    "            for data, target in tepoch:\n",
    "                tepoch.set_description(f\"Validating\")\n",
    "                data, target = data.to(device), target.to(device)\n",
    "                output = model(data)\n",
    "                val_loss += criterion(output, target).item()\n",
    "                _, predicted = output.max(1)\n",
    "                total += target.size(0)\n",
    "                correct += predicted.eq(target).sum().item()\n",
    "        \n",
    "    acc = 100.*correct/total\n",
    "    return val_loss, acc\n"
   ]
  },
  {
   "attachments": {},
   "cell_type": "markdown",
   "metadata": {},
   "source": [
    "### Begin Training process"
   ]
  },
  {
   "cell_type": "code",
   "execution_count": 53,
   "metadata": {},
   "outputs": [
    {
     "name": "stdout",
     "output_type": "stream",
     "text": [
      "Using device: cuda\n",
      "Dataset size: 29986\n",
      "Began training for 22 epochs\n",
      "Epoch 1\n",
      "Loading # 1500 datas\n"
     ]
    },
    {
     "name": "stderr",
     "output_type": "stream",
     "text": [
      "Training: 100%|██████████| 1500/1500 [11:42<00:00,  2.14batch/s]\n"
     ]
    },
    {
     "name": "stdout",
     "output_type": "stream",
     "text": [
      "  * Training epoch took: 0:11:42\n",
      "  * Validation took: 0:02:09\n",
      "Epoch 1, Train Loss: 142.6907, Train Acc: 96.49, Val Loss: 21.1527, Val Acc: 98.23\n",
      "Epoch 2\n",
      "Loading # 1500 datas\n"
     ]
    },
    {
     "name": "stderr",
     "output_type": "stream",
     "text": [
      "Training: 100%|██████████| 1500/1500 [09:07<00:00,  2.74batch/s]\n"
     ]
    },
    {
     "name": "stdout",
     "output_type": "stream",
     "text": [
      "  * Training epoch took: 0:09:07\n",
      "  * Validation took: 0:01:32\n",
      "Epoch 2, Train Loss: 73.8608, Train Acc: 98.19, Val Loss: 24.7275, Val Acc: 97.83\n",
      "Epoch 3\n",
      "Loading # 1500 datas\n"
     ]
    },
    {
     "name": "stderr",
     "output_type": "stream",
     "text": [
      "Training: 100%|██████████| 1500/1500 [09:23<00:00,  2.66batch/s]\n"
     ]
    },
    {
     "name": "stdout",
     "output_type": "stream",
     "text": [
      "  * Training epoch took: 0:09:23\n",
      "  * Validation took: 0:01:35\n",
      "Epoch 3, Train Loss: 68.5098, Train Acc: 98.37, Val Loss: 36.9841, Val Acc: 96.55\n",
      "Epoch 4\n",
      "Loading # 1500 datas\n"
     ]
    },
    {
     "name": "stderr",
     "output_type": "stream",
     "text": [
      "Training: 100%|██████████| 1500/1500 [09:27<00:00,  2.64batch/s]\n"
     ]
    },
    {
     "name": "stdout",
     "output_type": "stream",
     "text": [
      "  * Training epoch took: 0:09:27\n",
      "  * Validation took: 0:01:34\n",
      "Epoch 4, Train Loss: 55.1468, Train Acc: 98.66, Val Loss: 14.3568, Val Acc: 98.48\n",
      "Epoch 5\n",
      "Loading # 1500 datas\n"
     ]
    },
    {
     "name": "stderr",
     "output_type": "stream",
     "text": [
      "Training: 100%|██████████| 1500/1500 [09:16<00:00,  2.69batch/s]\n"
     ]
    },
    {
     "name": "stdout",
     "output_type": "stream",
     "text": [
      "  * Training epoch took: 0:09:16\n",
      "  * Validation took: 0:01:33\n",
      "Epoch 5, Train Loss: 42.9146, Train Acc: 98.95, Val Loss: 12.0639, Val Acc: 98.92\n",
      "Epoch 6\n",
      "Loading # 1500 datas\n"
     ]
    },
    {
     "name": "stderr",
     "output_type": "stream",
     "text": [
      "Training: 100%|██████████| 1500/1500 [08:58<00:00,  2.79batch/s]\n"
     ]
    },
    {
     "name": "stdout",
     "output_type": "stream",
     "text": [
      "  * Training epoch took: 0:08:58\n",
      "  * Validation took: 0:01:32\n",
      "Epoch 6, Train Loss: 36.1653, Train Acc: 99.19, Val Loss: 17.2514, Val Acc: 98.75\n",
      "Epoch 7\n",
      "Loading # 1500 datas\n"
     ]
    },
    {
     "name": "stderr",
     "output_type": "stream",
     "text": [
      "Training: 100%|██████████| 1500/1500 [08:57<00:00,  2.79batch/s]\n"
     ]
    },
    {
     "name": "stdout",
     "output_type": "stream",
     "text": [
      "  * Training epoch took: 0:08:57\n",
      "  * Validation took: 0:01:33\n",
      "Epoch 7, Train Loss: 28.7278, Train Acc: 99.35, Val Loss: 23.1919, Val Acc: 98.47\n",
      "Epoch 8\n",
      "Loading # 1500 datas\n"
     ]
    },
    {
     "name": "stderr",
     "output_type": "stream",
     "text": [
      "Training: 100%|██████████| 1500/1500 [08:54<00:00,  2.81batch/s]\n"
     ]
    },
    {
     "name": "stdout",
     "output_type": "stream",
     "text": [
      "  * Training epoch took: 0:08:54\n",
      "  * Validation took: 0:01:32\n",
      "Epoch 8, Train Loss: 21.3003, Train Acc: 99.45, Val Loss: 18.9906, Val Acc: 98.53\n",
      "Epoch 9\n",
      "Loading # 1500 datas\n"
     ]
    },
    {
     "name": "stderr",
     "output_type": "stream",
     "text": [
      "Training: 100%|██████████| 1500/1500 [08:55<00:00,  2.80batch/s]\n"
     ]
    },
    {
     "name": "stdout",
     "output_type": "stream",
     "text": [
      "  * Training epoch took: 0:08:55\n",
      "  * Validation took: 0:01:32\n",
      "Epoch 9, Train Loss: 28.2507, Train Acc: 99.38, Val Loss: 14.8384, Val Acc: 98.50\n",
      "Epoch 10\n",
      "Loading # 1500 datas\n"
     ]
    },
    {
     "name": "stderr",
     "output_type": "stream",
     "text": [
      "Training: 100%|██████████| 1500/1500 [08:57<00:00,  2.79batch/s]\n"
     ]
    },
    {
     "name": "stdout",
     "output_type": "stream",
     "text": [
      "  * Training epoch took: 0:08:57\n",
      "  * Validation took: 0:01:33\n",
      "Epoch 10, Train Loss: 16.5942, Train Acc: 99.66, Val Loss: 16.3345, Val Acc: 98.73\n",
      "Epoch 11\n",
      "Loading # 1500 datas\n"
     ]
    },
    {
     "name": "stderr",
     "output_type": "stream",
     "text": [
      "Training: 100%|██████████| 1500/1500 [08:57<00:00,  2.79batch/s]\n"
     ]
    },
    {
     "name": "stdout",
     "output_type": "stream",
     "text": [
      "  * Training epoch took: 0:08:57\n",
      "  * Validation took: 0:01:32\n",
      "Epoch 00011: reducing learning rate of group 0 to 1.4000e-04.\n",
      "Epoch 11, Train Loss: 16.3808, Train Acc: 99.64, Val Loss: 15.5751, Val Acc: 98.65\n",
      "Epoch 12\n",
      "Loading # 1500 datas\n"
     ]
    },
    {
     "name": "stderr",
     "output_type": "stream",
     "text": [
      "Training: 100%|██████████| 1500/1500 [08:57<00:00,  2.79batch/s]\n"
     ]
    },
    {
     "name": "stdout",
     "output_type": "stream",
     "text": [
      "  * Training epoch took: 0:08:57\n",
      "  * Validation took: 0:01:32\n",
      "Epoch 12, Train Loss: 9.0715, Train Acc: 99.79, Val Loss: 44.2634, Val Acc: 98.37\n",
      "Epoch 13\n",
      "Loading # 1500 datas\n"
     ]
    },
    {
     "name": "stderr",
     "output_type": "stream",
     "text": [
      "Training: 100%|██████████| 1500/1500 [08:57<00:00,  2.79batch/s]\n"
     ]
    },
    {
     "name": "stdout",
     "output_type": "stream",
     "text": [
      "  * Training epoch took: 0:08:57\n",
      "  * Validation took: 0:01:33\n",
      "Epoch 13, Train Loss: 7.9807, Train Acc: 99.81, Val Loss: 27.7708, Val Acc: 98.40\n",
      "Epoch 14\n",
      "Loading # 1500 datas\n"
     ]
    },
    {
     "name": "stderr",
     "output_type": "stream",
     "text": [
      "Training: 100%|██████████| 1500/1500 [08:56<00:00,  2.80batch/s]\n"
     ]
    },
    {
     "name": "stdout",
     "output_type": "stream",
     "text": [
      "  * Training epoch took: 0:08:56\n",
      "  * Validation took: 0:01:33\n",
      "Epoch 14, Train Loss: 8.0881, Train Acc: 99.83, Val Loss: 19.3623, Val Acc: 98.92\n",
      "Epoch 15\n",
      "Loading # 1500 datas\n"
     ]
    },
    {
     "name": "stderr",
     "output_type": "stream",
     "text": [
      "Training: 100%|██████████| 1500/1500 [10:40<00:00,  2.34batch/s]\n"
     ]
    },
    {
     "name": "stdout",
     "output_type": "stream",
     "text": [
      "  * Training epoch took: 0:10:40\n",
      "  * Validation took: 0:01:54\n",
      "Epoch 15, Train Loss: 8.2417, Train Acc: 99.83, Val Loss: 18.6159, Val Acc: 98.98\n",
      "Epoch 16\n",
      "Loading # 1500 datas\n"
     ]
    },
    {
     "name": "stderr",
     "output_type": "stream",
     "text": [
      "Training: 100%|██████████| 1500/1500 [09:09<00:00,  2.73batch/s]\n"
     ]
    },
    {
     "name": "stdout",
     "output_type": "stream",
     "text": [
      "  * Training epoch took: 0:09:09\n",
      "  * Validation took: 0:01:32\n",
      "Epoch 16, Train Loss: 7.1898, Train Acc: 99.85, Val Loss: 19.2950, Val Acc: 98.85\n",
      "Epoch 17\n",
      "Loading # 1500 datas\n"
     ]
    },
    {
     "name": "stderr",
     "output_type": "stream",
     "text": [
      "Training: 100%|██████████| 1500/1500 [08:55<00:00,  2.80batch/s]\n"
     ]
    },
    {
     "name": "stdout",
     "output_type": "stream",
     "text": [
      "  * Training epoch took: 0:08:55\n",
      "  * Validation took: 0:01:33\n",
      "Epoch 00017: reducing learning rate of group 0 to 9.8000e-05.\n",
      "Epoch 17, Train Loss: 7.0231, Train Acc: 99.87, Val Loss: 16.7615, Val Acc: 98.75\n",
      "Epoch 18\n",
      "Loading # 1500 datas\n"
     ]
    },
    {
     "name": "stderr",
     "output_type": "stream",
     "text": [
      "Training: 100%|██████████| 1500/1500 [08:54<00:00,  2.80batch/s]\n"
     ]
    },
    {
     "name": "stdout",
     "output_type": "stream",
     "text": [
      "  * Training epoch took: 0:08:54\n",
      "  * Validation took: 0:01:31\n",
      "Epoch 18, Train Loss: 2.7048, Train Acc: 99.93, Val Loss: 22.4822, Val Acc: 98.80\n",
      "Epoch 19\n",
      "Loading # 1500 datas\n"
     ]
    },
    {
     "name": "stderr",
     "output_type": "stream",
     "text": [
      "Training: 100%|██████████| 1500/1500 [08:55<00:00,  2.80batch/s]\n"
     ]
    },
    {
     "name": "stdout",
     "output_type": "stream",
     "text": [
      "  * Training epoch took: 0:08:55\n",
      "  * Validation took: 0:01:34\n",
      "Epoch 19, Train Loss: 5.5233, Train Acc: 99.87, Val Loss: 23.0846, Val Acc: 98.88\n",
      "Epoch 20\n",
      "Loading # 1500 datas\n"
     ]
    },
    {
     "name": "stderr",
     "output_type": "stream",
     "text": [
      "Training: 100%|██████████| 1500/1500 [08:55<00:00,  2.80batch/s]\n"
     ]
    },
    {
     "name": "stdout",
     "output_type": "stream",
     "text": [
      "  * Training epoch took: 0:08:55\n",
      "  * Validation took: 0:01:32\n",
      "Epoch 20, Train Loss: 1.3692, Train Acc: 99.96, Val Loss: 26.6251, Val Acc: 98.83\n",
      "Epoch 21\n",
      "Loading # 1500 datas\n"
     ]
    },
    {
     "name": "stderr",
     "output_type": "stream",
     "text": [
      "Training: 100%|██████████| 1500/1500 [08:53<00:00,  2.81batch/s]\n"
     ]
    },
    {
     "name": "stdout",
     "output_type": "stream",
     "text": [
      "  * Training epoch took: 0:08:53\n",
      "  * Validation took: 0:01:32\n",
      "Epoch 21, Train Loss: 2.4960, Train Acc: 99.95, Val Loss: 22.7361, Val Acc: 98.87\n",
      "Epoch 22\n",
      "Loading # 1500 datas\n"
     ]
    },
    {
     "name": "stderr",
     "output_type": "stream",
     "text": [
      "Training: 100%|██████████| 1500/1500 [08:54<00:00,  2.81batch/s]\n"
     ]
    },
    {
     "name": "stdout",
     "output_type": "stream",
     "text": [
      "  * Training epoch took: 0:08:54\n",
      "  * Validation took: 0:01:33\n",
      "Epoch 22, Train Loss: 4.0452, Train Acc: 99.93, Val Loss: 23.6788, Val Acc: 98.83\n",
      "Best validation accuracy: 98.98%\n",
      "Training complete in 3:57:56\n"
     ]
    }
   ],
   "source": [
    "# Set up hyperparameters for the model\n",
    "# Set up hyperparameters and data loaders\n",
    "# TUNABLE:\n",
    "lr = 2e-4\n",
    "# TUNABLE:\n",
    "epochs = 22\n",
    "# TUNABLE: original 64\n",
    "batch_size = 16\n",
    "# TUNABLE:\n",
    "factor = 0.7\n",
    "# TUNABLE:\n",
    "patience = 5\n",
    "\n",
    "num_classes = 2\n",
    "\n",
    "device = torch.device('cuda' if torch.cuda.is_available() else 'cpu')\n",
    "print(f\"Using device: {device}\")\n",
    "\n",
    "# # Define the transformations to be applied to the data\n",
    "target_size = 224\n",
    "transform = transforms.Compose([\n",
    "        transforms.Grayscale(num_output_channels=3),\n",
    "        transforms.Resize(target_size),\n",
    "        transforms.CenterCrop(target_size),\n",
    "        transforms.ToTensor(),\n",
    "        transforms.Normalize([0.485, 0.456, 0.406], [0.229, 0.224, 0.225])\n",
    "])\n",
    "\n",
    "# create COVIDDataset object\n",
    "# TUNABLE: --> can try different datasets\n",
    "dataset = COVIDDataset('train.txt', transform=transform)\n",
    "\n",
    "# get size of dataset\n",
    "dataset_size = len(dataset)\n",
    "print(f\"Dataset size: {dataset_size}\")\n",
    "\n",
    "# split dataset into train and validation sets\n",
    "train_size = int(0.8 * dataset_size)\n",
    "val_size = dataset_size - train_size\n",
    "train_dataset, val_dataset = data.random_split(dataset, [train_size, val_size])\n",
    "\n",
    "train_loader = DataLoader(train_dataset, batch_size=16,\n",
    "                          shuffle=True)\n",
    "val_loader = DataLoader(val_dataset, batch_size=16,\n",
    "                        shuffle=False)\n",
    "\n",
    "# Define the model, loss function and optimizer\n",
    "model = ModifiedResNet152(num_classes, pretrained=False).to(device)\n",
    "optimizer = torch.optim.Adam(model.parameters(), lr=lr)\n",
    "\n",
    "scheduler = optim.lr_scheduler.ReduceLROnPlateau(optimizer, factor=factor, patience=patience, verbose=True)\n",
    "\n",
    "# TUNABLE:\n",
    "criterion = nn.CrossEntropyLoss()\n",
    "# criterion = nn.NLLLoss()\n",
    "\n",
    "# record training and validation losses and accuracies\n",
    "train_losses = []\n",
    "val_losses = []\n",
    "train_accs = []\n",
    "val_accs = []\n",
    "best_acc = 0\n",
    "\n",
    "start = time.time()\n",
    "print(f\"Began training for {epochs} epochs\")\n",
    "for epoch in range(epochs):\n",
    "    print(f'Training (Epoch {epoch + 1})')\n",
    "    torch.cuda.empty_cache()\n",
    "    t0 = time.time()\n",
    "    train_loss, train_acc = train(model, train_loader, optimizer, criterion, device)\n",
    "    print(\"  * Training epoch took: {:}\".format(format_time(time.time() - t0)))\n",
    "    \n",
    "    t0 = time.time()\n",
    "    val_loss, val_acc = validate(model, val_loader, criterion, device)\n",
    "    print(\"  * Validation took: {:}\".format(format_time(time.time() - t0)))\n",
    "\n",
    "    # record training and validation losses and accuracies\n",
    "    train_losses.append(train_loss)\n",
    "    val_losses.append(val_loss)\n",
    "    train_accs.append(train_acc)\n",
    "    val_accs.append(val_acc)\n",
    "    \n",
    "    scheduler.step(val_loss)\n",
    "\n",
    "    print(f'Epoch {epoch + 1}, Train Loss: {train_loss:.4f}, Train Acc: {train_acc:.2f}, Val Loss: {val_loss:.4f}, Val Acc: {val_acc:.2f}')\n",
    "    \n",
    "    if val_acc > best_acc:\n",
    "        best_acc = val_acc\n",
    "        torch.save(model.state_dict(), 'resnet152.pt')\n",
    "\n",
    "print(f'Best validation accuracy: {best_acc:.2f}%')\n",
    "print(\"Training complete in {}\".format(format_time(time.time() - start)))\n",
    "\n",
    "# # Use the pretrained Resnet152. Load the trained ResNet152 model\n",
    "# model = models.resnet152(weights=models.ResNet152_Weights.DEFAULT)\n",
    "# model.fc = torch.nn.Sequential(\n",
    "#     torch.nn.Linear(2048, 1024),\n",
    "#     torch.nn.ReLU(),\n",
    "#     # torch.nn.Linear(1024, 2),\n",
    "#     torch.nn.LogSoftmax(dim=1)\n",
    "# )\n",
    "\n",
    "# # Set the model to evaluation mode\n",
    "# model.eval()\n",
    "\n",
    "# # Initialize an empty tensor to store the features for all images\n",
    "# all_features = torch.empty(len(dataset), 1024)\n",
    "\n",
    "# # Pass each batch of images through the model to obtain the features\n",
    "# with torch.no_grad():\n",
    "#     start_index = 0\n",
    "#     for images, _ in tqdm(train_loader):\n",
    "#         batch_size = images.shape[0]\n",
    "#         features = model(images)\n",
    "#         all_features[start_index:start_index+batch_size,:] = features\n",
    "#         start_index += batch_size\n"
   ]
  },
  {
   "attachments": {},
   "cell_type": "markdown",
   "metadata": {},
   "source": [
    "### Plot the loss and accuracy"
   ]
  },
  {
   "cell_type": "code",
   "execution_count": 81,
   "metadata": {},
   "outputs": [
    {
     "data": {
      "image/png": "[encoded data removed]",
      "text/plain": [
       "<Figure size 1000x500 with 2 Axes>"
      ]
     },
     "metadata": {},
     "output_type": "display_data"
    }
   ],
   "source": [
    "# plot training and validation losses and accuracies\n",
    "now = datetime.datetime.now()\n",
    "now = now.strftime(\"%Y-%m-%d_%H%M%S\")\n",
    "# script_dir = os.path.dirname(__file__)\n",
    "# plot_dir = os.path.join(script_dir, 'plots/')\n",
    "\n",
    "plt.figure(figsize=(10, 5))\n",
    "plt.subplot(1, 2, 1)\n",
    "plt.plot(train_losses, label='Training loss')\n",
    "plt.plot(val_losses, label='Validation loss')\n",
    "plt.legend()\n",
    "plt.subplot(1, 2, 2)\n",
    "plt.plot(train_accs, label='Training accuracy')\n",
    "plt.plot(val_accs, label='Validation accuracy')\n",
    "plt.legend()\n",
    "plt.savefig('./resnet_plots/' + f'loss_resnet152_{now}.png')\n",
    "plt.show()"
   ]
  },
  {
   "attachments": {},
   "cell_type": "markdown",
   "metadata": {},
   "source": [
    "### Test the resnet model"
   ]
  },
  {
   "cell_type": "code",
   "execution_count": 78,
   "metadata": {},
   "outputs": [
    {
     "name": "stdout",
     "output_type": "stream",
     "text": [
      "Test loss: 0.9935, Test accuracy: 96.00%\n"
     ]
    }
   ],
   "source": [
    "# test data\n",
    "test_dataset = COVIDDataset('test.txt', transform=transform)\n",
    "test_loader = DataLoader(test_dataset, batch_size=64, shuffle=False)\n",
    "\n",
    "# load best model\n",
    "model.load_state_dict(torch.load('resnet152.pt'))\n",
    "\n",
    "# evaluate model on test set\n",
    "test_loss, test_acc = validate(model, test_loader, criterion, device)\n",
    "print(f'Test loss: {test_loss:.4f}, Test accuracy: {test_acc:.2f}%')"
   ]
  }
 ],
 "metadata": {
  "kernelspec": {
   "display_name": "csc413proj_venv",
   "language": "python",
   "name": "python3"
  },
  "language_info": {
   "codemirror_mode": {
    "name": "ipython",
    "version": 3
   },
   "file_extension": ".py",
   "mimetype": "text/x-python",
   "name": "python",
   "nbconvert_exporter": "python",
   "pygments_lexer": "ipython3",
   "version": "3.9.13"
  },
  "orig_nbformat": 4
 },
 "nbformat": 4,
 "nbformat_minor": 2
}
