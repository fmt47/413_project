{
  "cells": [
    {
      "cell_type": "markdown",
      "metadata": {
        "id": "1PMDqlgoDhHQ"
      },
      "source": [
        "Download Dataset"
      ]
    },
    {
      "cell_type": "code",
      "execution_count": 1,
      "metadata": {
        "colab": {
          "base_uri": "https://localhost:8080/",
          "height": 0
        },
        "id": "d8XknD-9iLvl",
        "outputId": "61cc03ca-abb3-4cca-c6b5-17e0863fc220"
      },
      "outputs": [
        {
          "name": "stderr",
          "output_type": "stream",
          "text": [
            "The syntax of the command is incorrect.\n",
            "The system cannot find the path specified.\n",
            "chmod: cannot access '~/.kaggle/kaggle.json': No such file or directory\n"
          ]
        },
        {
          "name": "stdout",
          "output_type": "stream",
          "text": [
            "covidx-cxr2.zip: Skipping, found more recently modified local copy (use --force to force download)\n"
          ]
        }
      ],
      "source": [
        "# !mkdir test train\n",
        "!pip install -U -q kaggle\n",
        "!mkdir -p ~/.kaggle\n",
        "!echo '{\"username\":\"codefarmer8408\",\"key\":\"5c7d212a5ec645c0962100d3fef57e42\"}' > ~/.kaggle/kaggle.json\n",
        "!chmod 600 ~/.kaggle/kaggle.json\n",
        "!kaggle datasets download -d andyczhao/covidx-cxr2"
      ]
    },
    {
      "cell_type": "markdown",
      "metadata": {
        "id": "XkE-de_VEJ4V"
      },
      "source": [
        "unzip downloaded data"
      ]
    },
    {
      "cell_type": "code",
      "execution_count": 2,
      "metadata": {
        "colab": {
          "base_uri": "https://localhost:8080/",
          "height": 0
        },
        "id": "mIo6vTsl1sxI",
        "outputId": "2941a8cc-2664-4161-8da2-ebcdfaae8463"
      },
      "outputs": [
        {
          "name": "stdout",
          "output_type": "stream",
          "text": [
            "^C\n"
          ]
        },
        {
          "name": "stdout",
          "output_type": "stream",
          "text": [
            "Archive:  covidx-cxr2.zip\n"
          ]
        },
        {
          "name": "stderr",
          "output_type": "stream",
          "text": [
            "  End-of-central-directory signature not found.  Either this file is not\n",
            "  a zipfile, or it constitutes one disk of a multi-part archive.  In the\n",
            "  latter case the central directory and zipfile comment will be found on\n",
            "  the last disk(s) of this archive.\n",
            "unzip:  cannot find zipfile directory in one of covidx-cxr2.zip or\n",
            "        covidx-cxr2.zip.zip, and cannot find covidx-cxr2.zip.ZIP, period.\n"
          ]
        }
      ],
      "source": [
        "!unzip covidx-cxr2.zip"
      ]
    },
    {
      "cell_type": "markdown",
      "metadata": {
        "id": "LIWBq3VCDkRT"
      },
      "source": [
        "Create Dataset Parser"
      ]
    },
    {
      "cell_type": "code",
      "execution_count": 13,
      "metadata": {
        "id": "eg3s3qYF7T0y"
      },
      "outputs": [],
      "source": [
        "import torch\n",
        "from torch.utils.data import Dataset, DataLoader\n",
        "from torchvision import transforms\n",
        "from PIL import Image\n",
        "import os\n",
        "import time\n",
        "import datetime\n",
        "\n",
        "class COVIDDataset(Dataset):\n",
        "    def __init__(self, data_file, transform=None):\n",
        "        self.data = []\n",
        "        self.transform = transform\n",
        "        self.map = {'negative': 0, 'positive': 1}\n",
        "        \n",
        "        with open(data_file, 'r') as f:\n",
        "            folder = os.path.splitext(data_file)[0]\n",
        "            for line in f:\n",
        "                patient_id, filename, label, data_source = line.strip().split(' ')\n",
        "                image_path = os.path.join(folder, filename)\n",
        "                self.data.append((image_path ,self.map[label]))\n",
        "                \n",
        "    def __len__(self):\n",
        "        return len(self.data)\n",
        "    \n",
        "    def __getitem__(self, index):\n",
        "        image_path, label = self.data[index]\n",
        "        image = Image.open(image_path)\n",
        "        if self.transform is not None:\n",
        "            image = self.transform(image)\n",
        "        return image, label"
      ]
    },
    {
      "cell_type": "code",
      "execution_count": 14,
      "metadata": {},
      "outputs": [],
      "source": [
        "def format_time(elapsed):\n",
        "    elapsed_rounded = int(round(elapsed, 2))\n",
        "    return str(datetime.timedelta(seconds=elapsed_rounded))"
      ]
    },
    {
      "cell_type": "markdown",
      "metadata": {
        "id": "k_N4-FtJDpjV"
      },
      "source": [
        "Create CNN Model"
      ]
    },
    {
      "cell_type": "code",
      "execution_count": 15,
      "metadata": {
        "id": "I_zV8Pa_579k"
      },
      "outputs": [],
      "source": [
        "import torch\n",
        "import torch.nn as nn\n",
        "import torch.optim as optim\n",
        "import torch.nn.functional as F\n",
        "from torch.utils.data import DataLoader\n",
        "from torchvision.transforms import transforms\n",
        "import torch.utils.data as data\n",
        "import matplotlib.pyplot as plt\n",
        "\n",
        "from tqdm import tqdm\n",
        "\n",
        "# Things to try: search \"TUNABLE\"\n",
        "\n",
        "class PEPX(nn.Module):\n",
        "    def __init__(self, in_channels, out_channels, expansion_factor=4):\n",
        "        super(PEPX, self).__init__()\n",
        "        hidden_channels = int(out_channels / expansion_factor)\n",
        "\n",
        "        self.projection = nn.Conv2d(in_channels, hidden_channels, kernel_size=1)\n",
        "        self.expansion = nn.Conv2d(hidden_channels, out_channels, kernel_size=1)\n",
        "        self.depthwise = nn.Conv2d(out_channels, out_channels, kernel_size=3, padding=1, groups=out_channels)\n",
        "        self.second_projection = nn.Conv2d(out_channels, hidden_channels, kernel_size=1)\n",
        "        self.extension = nn.Conv2d(hidden_channels, out_channels, kernel_size=1)\n",
        "\n",
        "    def forward(self, x):\n",
        "        x = self.projection(x)\n",
        "        # identity = x\n",
        "        x = self.expansion(x)\n",
        "        x = nn.functional.relu(x, inplace=True)\n",
        "        x = self.depthwise(x)\n",
        "        x = nn.functional.relu(x, inplace=True)\n",
        "        x = self.second_projection(x)\n",
        "        x = self.extension(x)\n",
        "        # x += identity\n",
        "        x = nn.functional.relu(x, inplace=True)\n",
        "        return x\n",
        "    \n",
        "class PEPX_Downsample(PEPX):\n",
        "    \"\"\"Same as pepx but makes the input smaller by half\"\"\"\n",
        "    def __init__(self, in_channels, out_channels, expansion_factor=4):\n",
        "        super(PEPX_Downsample, self).__init__(in_channels, out_channels, expansion_factor)\n",
        "        self.downsample = nn.MaxPool2d(kernel_size=4, stride=4)\n",
        "        \n",
        "    def forward(self, x):\n",
        "        x = self.projection(x)\n",
        "        # identity = x\n",
        "        x = self.expansion(x)\n",
        "        x = nn.functional.relu(x, inplace=True)\n",
        "        x = self.depthwise(x)\n",
        "        x = nn.functional.relu(x, inplace=True)\n",
        "        x = self.second_projection(x)\n",
        "        x = self.extension(x)\n",
        "        # x += identity\n",
        "        x = nn.functional.relu(x, inplace=True)\n",
        "        x = self.downsample(x)\n",
        "        return x\n",
        "\n",
        "\n",
        "class COVIDNet(nn.Module):\n",
        "    def __init__(self, num_classes=2):\n",
        "        super(COVIDNet, self).__init__()\n",
        "        # first conv layer\n",
        "        self.conv7x7 = nn.Conv2d(3, 56, kernel_size=7, stride=2, padding=3)\n",
        "        # top conv layers\n",
        "        self.conv1 = nn.Conv2d(56, 56, kernel_size=4, stride=4)\n",
        "        self.conv2 = nn.Conv2d(56 * 4, 112, kernel_size=4, stride=4)\n",
        "        # self.conv3 = nn.Conv2d(112 * 5, 224, kernel_size=2, stride=2)\n",
        "        # self.conv4 = nn.Conv2d(216 * 5 + 224 * 2, 424, kernel_size=2, stride=2)\n",
        "\n",
        "        # pepx layers\n",
        "        self.pepx11 = PEPX_Downsample(56, 56)\n",
        "        self.pepx12 = PEPX(56 * 2, 56)\n",
        "        self.pepx13 = PEPX(56 * 3, 56)\n",
        "\n",
        "        self.pepx21 = PEPX_Downsample(56 * 4, 112)\n",
        "        self.pepx22 = PEPX(112 * 2, 112)\n",
        "        self.pepx23 = PEPX(112 * 3, 112)\n",
        "        self.pepx24 = PEPX(112 * 4, 112)\n",
        "\n",
        "        # self.pepx31 = PEPX_Downsample(112 * 5, 216)\n",
        "        # self.pepx32 = PEPX(216 + 224, 216)\n",
        "        # self.pepx33 = PEPX(216 * 2 + 224, 216)\n",
        "        # self.pepx34 = PEPX(216 * 3 + 224, 216)\n",
        "        # self.pepx35 = PEPX(216 * 4 + 224, 216)\n",
        "        # self.pepx36 = PEPX(216 * 5 + 224, 224)\n",
        "\n",
        "        # self.pepx41 = PEPX_Downsample(216 * 5 + 224 * 2, 424)\n",
        "        # self.pepx42 = PEPX(424 * 2, 424)\n",
        "        # self.pepx43 = PEPX(424 * 3, 400)\n",
        "\n",
        "        # final layers\n",
        "        self.flatten = nn.Flatten()\n",
        "        # 370800? 15x15x(400+424+424+424)\n",
        "        # NOT 460800? 15x15x(400+400+400+424+424)\n",
        "        self.fc = nn.Linear(126000, num_classes)\n",
        "        self.softmax = nn.Softmax(dim=1)\n",
        "\n",
        "    def forward(self, x):\n",
        "        # Conv7x7 layer\n",
        "        x = self.conv7x7(x)\n",
        "        x = nn.ReLU(inplace=True)(x)\n",
        "        \n",
        "        # print(pepx11\")\n",
        "        # PEPX11 module\n",
        "        pepx11 = self.pepx11(x)\n",
        "        conv1 = self.conv1(x)\n",
        "\n",
        "        # print(f\"size of pepx11 = {pepx11.size()}, size of conv1 = {conv1.size()}\")\n",
        "        # print(pepx12\")        \n",
        "        # PEPX12 module\n",
        "        pepx12 = self.pepx12(torch.cat((pepx11, conv1), dim=1))\n",
        "        # print(f\"size of pepx12 = {pepx12.size()}\")\n",
        "\n",
        "        # print(pepx13\")\n",
        "        # PEPX13 module\n",
        "        pepx13 = self.pepx13(torch.cat((pepx12, pepx11, conv1), dim=1))\n",
        "        # print(f\"size of pepx13 = {pepx13.size()}\")\n",
        "\n",
        "        # print(pepx21\")\n",
        "        # PEPX21 module\n",
        "        cat = torch.cat((pepx13, pepx12, pepx11, conv1), dim=1)\n",
        "        pepx21 = self.pepx21(cat)\n",
        "        conv2 = self.conv2(cat)\n",
        "        # print(f\"size of pepx21 = {pepx21.size()}, size of conv2 = {conv2.size()}\")\n",
        "\n",
        "        # print(pepx22\")\n",
        "        # PEPX22 module\n",
        "        pepx22 = self.pepx22(torch.cat((pepx21, conv2), dim=1))\n",
        "        # print(f\"size of pepx22 = {pepx22.size()}\")\n",
        "\n",
        "        # print(pepx23\")\n",
        "        # PEPX23 module\n",
        "        pepx23 = self.pepx23(torch.cat((pepx22, pepx21, conv2), dim=1))\n",
        "        # print(f\"size of pepx23 = {pepx23.size()}\")\n",
        "\n",
        "        # print(pepx24\")\n",
        "        # PEPX24 module\n",
        "        pepx24 = self.pepx24(torch.cat((pepx23, pepx22, pepx21, conv2), dim=1))\n",
        "        # print(f\"size of pepx24 = {pepx24.size()}\")\n",
        "\n",
        "        # # print(pepx31\")\n",
        "        # # PEPX31 module\n",
        "        # cat = torch.cat((pepx24, pepx23, pepx22, pepx21, conv2), dim=1)\n",
        "        # pepx31 = self.pepx31(cat)\n",
        "        # conv3 = self.conv3(cat)\n",
        "        # # print(f\"size of pepx31 = {pepx31.size()}, size of conv3 = {conv3.size()}\")\n",
        "\n",
        "        # # print(pepx32\")\n",
        "        # # PEPX32 module\n",
        "        # pepx32 = self.pepx32(torch.cat((pepx31, conv3), dim=1))\n",
        "        # # print(f\"size of pepx32 = {pepx32.size()}\")\n",
        "\n",
        "        # # print(pepx33\")\n",
        "        # # PEPX33 module\n",
        "        # pepx33 = self.pepx33(torch.cat((pepx32, pepx31, conv3), dim=1))\n",
        "        # # print(f\"size of pepx33 = {pepx33.size()}\")\n",
        "\n",
        "        # # print(pepx34\")\n",
        "        # # PEPX34 module\n",
        "        # pepx34 = self.pepx34(torch.cat((pepx33, pepx32, pepx31, conv3), dim=1))\n",
        "        # # print(f\"size of pepx34 = {pepx34.size()}\")\n",
        "\n",
        "        # # print(pepx35\")\n",
        "        # # PEPX35 module\n",
        "        # pepx35 = self.pepx35(torch.cat((pepx34, pepx33, pepx32, pepx31, conv3), dim=1))\n",
        "        # # print(f\"size of pepx35 = {pepx35.size()}\")\n",
        "\n",
        "        # # print(pepx36\")\n",
        "        # # PEPX36 module\n",
        "        # pepx36 = self.pepx36(torch.cat((pepx35, pepx34, pepx33, pepx32, pepx31, conv3), dim=1))\n",
        "        # # print(f\"size of pepx36 = {pepx36.size()}\")\n",
        "\n",
        "        # # print(pepx41\")\n",
        "        # # PEPX41 module\n",
        "        # cat = torch.cat((pepx36, pepx35, pepx34, pepx33, pepx32, pepx31, conv3), dim=1)\n",
        "        # pepx41 = self.pepx41(cat)\n",
        "        # conv4 = self.conv4(cat)\n",
        "        # # print(f\"size of pepx41 = {pepx41.size()}, size of conv4 = {conv4.size()}\")\n",
        "\n",
        "        # # print(pepx42\")\n",
        "        # # PEPX42 module\n",
        "        # pepx42 = self.pepx42(torch.cat((pepx41, conv4), dim=1))\n",
        "        # # print(f\"size of pepx42 = {pepx42.size()}\")\n",
        "\n",
        "        # # print(pepx43\")\n",
        "        # # PEPX43 module\n",
        "        # pepx43 = self.pepx43(torch.cat((pepx42, pepx41, conv4), dim=1))\n",
        "        # # print(f\"size of pepx43 = {pepx43.size()}\")\n",
        "    \n",
        "        # Flatten and FC layer\n",
        "        x = self.flatten(torch.cat([pepx24, pepx23, pepx22, pepx21, conv2], dim=1))\n",
        "        # print(f\"size of flatten = {x.size()}\")\n",
        "        x = self.fc(x)\n",
        "        # print(f\"size of fc = {x.size()}\")\n",
        "        \n",
        "        # Softmax activation\n",
        "        x = self.softmax(x)\n",
        "        # print(f\"size of softmax = {x.size()}\")\n",
        "        \n",
        "        return x\n",
        "\n",
        "\n",
        "def train(model, train_loader, optimizer, criterion, device):\n",
        "    model.train()\n",
        "    train_loss = 0\n",
        "    correct = 0\n",
        "    total = 0\n",
        "    print(f'Loading # {len(train_loader)} datas')\n",
        "    t0 = time.time()\n",
        "    with tqdm(train_loader, unit='batch') as tepoch:\n",
        "        for data, target in tepoch:\n",
        "            tepoch.set_description(f\"Training\")\n",
        "\n",
        "            data, target = data.to(device), target.to(device)\n",
        "\n",
        "            # instead of  optimizer.zero_grad(), do it in forloop for more efficiency\n",
        "            for param in model.parameters():\n",
        "                param.grad = None\n",
        "\n",
        "            output = model(data)\n",
        "            loss = criterion(output, target)\n",
        "            loss.backward()\n",
        "            optimizer.step()\n",
        "            \n",
        "            train_loss += loss.item()\n",
        "            _, predicted = output.max(1)\n",
        "            total += target.size(0)\n",
        "            correct += predicted.eq(target).sum().item()\n",
        "    print(\"  * Training epoch took: {:}\".format(format_time(time.time() - t0)))\n",
        "    acc = 100.*correct/total\n",
        "    return train_loss, acc\n",
        "\n",
        "def validate(model, val_loader, criterion, device):\n",
        "    model.eval()\n",
        "    val_loss = 0\n",
        "    correct = 0\n",
        "    total = 0\n",
        "    t0 = time.time()\n",
        "    with torch.no_grad():\n",
        "        with tqdm(val_loader, unit=\"batch\") as tepoch:\n",
        "            for data, target in tepoch:\n",
        "                tepoch.set_description(f\"Validating\")\n",
        "                \n",
        "                data, target = data.to(device), target.to(device)\n",
        "                output = model(data)\n",
        "                val_loss += criterion(output, target).item()\n",
        "                _, predicted = output.max(1)\n",
        "                total += target.size(0)\n",
        "                correct += predicted.eq(target).sum().item()\n",
        "            \n",
        "    print(\"  * Validation took: {:}\".format(format_time(time.time() - t0)))\n",
        "    acc = 100.*correct/total\n",
        "    return val_loss, acc"
      ]
    },
    {
      "cell_type": "markdown",
      "metadata": {
        "id": "xh2TsfNwDr9w"
      },
      "source": [
        "Train"
      ]
    },
    {
      "cell_type": "code",
      "execution_count": 16,
      "metadata": {
        "colab": {
          "base_uri": "https://localhost:8080/",
          "height": 0
        },
        "id": "DC4ww56N58QE",
        "outputId": "5f6b4cf5-4db3-4bac-c96a-8388ef90dcd0"
      },
      "outputs": [
        {
          "name": "stdout",
          "output_type": "stream",
          "text": [
            "Using device: cuda\n",
            "Began training for 25 epochs\n",
            "Training (Epoch 1)\n",
            "Loading # 500 datas\n"
          ]
        },
        {
          "name": "stderr",
          "output_type": "stream",
          "text": [
            "Training: 100%|██████████| 500/500 [08:15<00:00,  1.01batch/s]\n"
          ]
        },
        {
          "name": "stdout",
          "output_type": "stream",
          "text": [
            "  * Training epoch took: 0:08:15\n"
          ]
        },
        {
          "name": "stderr",
          "output_type": "stream",
          "text": [
            "Validating: 100%|██████████| 125/125 [01:43<00:00,  1.21batch/s]\n"
          ]
        },
        {
          "name": "stdout",
          "output_type": "stream",
          "text": [
            "  * Validation took: 0:01:43\n",
            "Epoch 1, Train Loss: 258.6700, Train Acc: 78.50, Val Loss: 61.8104, Val Acc: 80.94\n",
            "Training (Epoch 2)\n",
            "Loading # 500 datas\n"
          ]
        },
        {
          "name": "stderr",
          "output_type": "stream",
          "text": [
            "Training: 100%|██████████| 500/500 [08:12<00:00,  1.02batch/s]\n"
          ]
        },
        {
          "name": "stdout",
          "output_type": "stream",
          "text": [
            "  * Training epoch took: 0:08:12\n"
          ]
        },
        {
          "name": "stderr",
          "output_type": "stream",
          "text": [
            "Validating: 100%|██████████| 125/125 [01:43<00:00,  1.21batch/s]\n"
          ]
        },
        {
          "name": "stdout",
          "output_type": "stream",
          "text": [
            "  * Validation took: 0:01:43\n",
            "Epoch 2, Train Loss: 239.1950, Train Acc: 82.65, Val Loss: 57.3798, Val Acc: 84.88\n",
            "Training (Epoch 3)\n",
            "Loading # 500 datas\n"
          ]
        },
        {
          "name": "stderr",
          "output_type": "stream",
          "text": [
            "Training: 100%|██████████| 500/500 [07:47<00:00,  1.07batch/s]\n"
          ]
        },
        {
          "name": "stdout",
          "output_type": "stream",
          "text": [
            "  * Training epoch took: 0:07:47\n"
          ]
        },
        {
          "name": "stderr",
          "output_type": "stream",
          "text": [
            "Validating: 100%|██████████| 125/125 [01:37<00:00,  1.28batch/s]\n"
          ]
        },
        {
          "name": "stdout",
          "output_type": "stream",
          "text": [
            "  * Validation took: 0:01:37\n",
            "Epoch 3, Train Loss: 220.0853, Train Acc: 86.84, Val Loss: 53.6891, Val Acc: 88.10\n",
            "Training (Epoch 4)\n",
            "Loading # 500 datas\n"
          ]
        },
        {
          "name": "stderr",
          "output_type": "stream",
          "text": [
            "Training: 100%|██████████| 500/500 [07:32<00:00,  1.10batch/s]\n"
          ]
        },
        {
          "name": "stdout",
          "output_type": "stream",
          "text": [
            "  * Training epoch took: 0:07:32\n"
          ]
        },
        {
          "name": "stderr",
          "output_type": "stream",
          "text": [
            "Validating: 100%|██████████| 125/125 [01:39<00:00,  1.26batch/s]\n"
          ]
        },
        {
          "name": "stdout",
          "output_type": "stream",
          "text": [
            "  * Validation took: 0:01:39\n",
            "Epoch 4, Train Loss: 203.9262, Train Acc: 90.35, Val Loss: 51.0947, Val Acc: 90.16\n",
            "Training (Epoch 5)\n",
            "Loading # 500 datas\n"
          ]
        },
        {
          "name": "stderr",
          "output_type": "stream",
          "text": [
            "Training: 100%|██████████| 500/500 [07:34<00:00,  1.10batch/s]\n"
          ]
        },
        {
          "name": "stdout",
          "output_type": "stream",
          "text": [
            "  * Training epoch took: 0:07:34\n"
          ]
        },
        {
          "name": "stderr",
          "output_type": "stream",
          "text": [
            "Validating: 100%|██████████| 125/125 [01:39<00:00,  1.26batch/s]\n"
          ]
        },
        {
          "name": "stdout",
          "output_type": "stream",
          "text": [
            "  * Validation took: 0:01:39\n",
            "Epoch 5, Train Loss: 193.7618, Train Acc: 92.42, Val Loss: 48.0861, Val Acc: 92.80\n",
            "Training (Epoch 6)\n",
            "Loading # 500 datas\n"
          ]
        },
        {
          "name": "stderr",
          "output_type": "stream",
          "text": [
            "Training: 100%|██████████| 500/500 [07:35<00:00,  1.10batch/s]\n"
          ]
        },
        {
          "name": "stdout",
          "output_type": "stream",
          "text": [
            "  * Training epoch took: 0:07:35\n"
          ]
        },
        {
          "name": "stderr",
          "output_type": "stream",
          "text": [
            "Validating: 100%|██████████| 125/125 [01:39<00:00,  1.26batch/s]\n"
          ]
        },
        {
          "name": "stdout",
          "output_type": "stream",
          "text": [
            "  * Validation took: 0:01:39\n",
            "Epoch 6, Train Loss: 185.2572, Train Acc: 94.13, Val Loss: 46.5080, Val Acc: 93.98\n",
            "Training (Epoch 7)\n",
            "Loading # 500 datas\n"
          ]
        },
        {
          "name": "stderr",
          "output_type": "stream",
          "text": [
            "Training: 100%|██████████| 500/500 [07:31<00:00,  1.11batch/s]\n"
          ]
        },
        {
          "name": "stdout",
          "output_type": "stream",
          "text": [
            "  * Training epoch took: 0:07:31\n"
          ]
        },
        {
          "name": "stderr",
          "output_type": "stream",
          "text": [
            "Validating: 100%|██████████| 125/125 [01:38<00:00,  1.27batch/s]\n"
          ]
        },
        {
          "name": "stdout",
          "output_type": "stream",
          "text": [
            "  * Validation took: 0:01:38\n",
            "Epoch 7, Train Loss: 180.8290, Train Acc: 95.20, Val Loss: 45.2780, Val Acc: 95.18\n",
            "Training (Epoch 8)\n",
            "Loading # 500 datas\n"
          ]
        },
        {
          "name": "stderr",
          "output_type": "stream",
          "text": [
            "Training: 100%|██████████| 500/500 [07:29<00:00,  1.11batch/s]\n"
          ]
        },
        {
          "name": "stdout",
          "output_type": "stream",
          "text": [
            "  * Training epoch took: 0:07:29\n"
          ]
        },
        {
          "name": "stderr",
          "output_type": "stream",
          "text": [
            "Validating: 100%|██████████| 125/125 [01:37<00:00,  1.28batch/s]\n"
          ]
        },
        {
          "name": "stdout",
          "output_type": "stream",
          "text": [
            "  * Validation took: 0:01:37\n",
            "Epoch 8, Train Loss: 178.4858, Train Acc: 95.59, Val Loss: 45.3202, Val Acc: 94.98\n",
            "Training (Epoch 9)\n",
            "Loading # 500 datas\n"
          ]
        },
        {
          "name": "stderr",
          "output_type": "stream",
          "text": [
            "Training: 100%|██████████| 500/500 [07:29<00:00,  1.11batch/s]\n"
          ]
        },
        {
          "name": "stdout",
          "output_type": "stream",
          "text": [
            "  * Training epoch took: 0:07:29\n"
          ]
        },
        {
          "name": "stderr",
          "output_type": "stream",
          "text": [
            "Validating: 100%|██████████| 125/125 [01:37<00:00,  1.28batch/s]\n"
          ]
        },
        {
          "name": "stdout",
          "output_type": "stream",
          "text": [
            "  * Validation took: 0:01:37\n",
            "Epoch 9, Train Loss: 177.4790, Train Acc: 95.79, Val Loss: 45.8248, Val Acc: 94.63\n",
            "Training (Epoch 10)\n",
            "Loading # 500 datas\n"
          ]
        },
        {
          "name": "stderr",
          "output_type": "stream",
          "text": [
            "Training: 100%|██████████| 500/500 [07:29<00:00,  1.11batch/s]\n"
          ]
        },
        {
          "name": "stdout",
          "output_type": "stream",
          "text": [
            "  * Training epoch took: 0:07:29\n"
          ]
        },
        {
          "name": "stderr",
          "output_type": "stream",
          "text": [
            "Validating: 100%|██████████| 125/125 [01:38<00:00,  1.27batch/s]\n"
          ]
        },
        {
          "name": "stdout",
          "output_type": "stream",
          "text": [
            "  * Validation took: 0:01:38\n",
            "Epoch 10, Train Loss: 176.2233, Train Acc: 96.09, Val Loss: 44.5185, Val Acc: 95.52\n",
            "Training (Epoch 11)\n",
            "Loading # 500 datas\n"
          ]
        },
        {
          "name": "stderr",
          "output_type": "stream",
          "text": [
            "Training: 100%|██████████| 500/500 [07:32<00:00,  1.10batch/s]\n"
          ]
        },
        {
          "name": "stdout",
          "output_type": "stream",
          "text": [
            "  * Training epoch took: 0:07:32\n"
          ]
        },
        {
          "name": "stderr",
          "output_type": "stream",
          "text": [
            "Validating: 100%|██████████| 125/125 [01:39<00:00,  1.26batch/s]\n"
          ]
        },
        {
          "name": "stdout",
          "output_type": "stream",
          "text": [
            "  * Validation took: 0:01:39\n",
            "Epoch 11, Train Loss: 175.1099, Train Acc: 96.24, Val Loss: 44.5257, Val Acc: 95.42\n",
            "Training (Epoch 12)\n",
            "Loading # 500 datas\n"
          ]
        },
        {
          "name": "stderr",
          "output_type": "stream",
          "text": [
            "Training: 100%|██████████| 500/500 [07:35<00:00,  1.10batch/s]\n"
          ]
        },
        {
          "name": "stdout",
          "output_type": "stream",
          "text": [
            "  * Training epoch took: 0:07:35\n"
          ]
        },
        {
          "name": "stderr",
          "output_type": "stream",
          "text": [
            "Validating: 100%|██████████| 125/125 [01:38<00:00,  1.26batch/s]\n"
          ]
        },
        {
          "name": "stdout",
          "output_type": "stream",
          "text": [
            "  * Validation took: 0:01:38\n",
            "Epoch 12, Train Loss: 174.1654, Train Acc: 96.42, Val Loss: 44.5014, Val Acc: 95.60\n",
            "Training (Epoch 13)\n",
            "Loading # 500 datas\n"
          ]
        },
        {
          "name": "stderr",
          "output_type": "stream",
          "text": [
            "Training: 100%|██████████| 500/500 [07:34<00:00,  1.10batch/s]\n"
          ]
        },
        {
          "name": "stdout",
          "output_type": "stream",
          "text": [
            "  * Training epoch took: 0:07:34\n"
          ]
        },
        {
          "name": "stderr",
          "output_type": "stream",
          "text": [
            "Validating: 100%|██████████| 125/125 [01:38<00:00,  1.27batch/s]\n"
          ]
        },
        {
          "name": "stdout",
          "output_type": "stream",
          "text": [
            "  * Validation took: 0:01:38\n",
            "Epoch 13, Train Loss: 173.2368, Train Acc: 96.64, Val Loss: 44.0840, Val Acc: 95.98\n",
            "Training (Epoch 14)\n",
            "Loading # 500 datas\n"
          ]
        },
        {
          "name": "stderr",
          "output_type": "stream",
          "text": [
            "Training: 100%|██████████| 500/500 [07:32<00:00,  1.11batch/s]\n"
          ]
        },
        {
          "name": "stdout",
          "output_type": "stream",
          "text": [
            "  * Training epoch took: 0:07:32\n"
          ]
        },
        {
          "name": "stderr",
          "output_type": "stream",
          "text": [
            "Validating: 100%|██████████| 125/125 [01:38<00:00,  1.27batch/s]\n"
          ]
        },
        {
          "name": "stdout",
          "output_type": "stream",
          "text": [
            "  * Validation took: 0:01:38\n",
            "Epoch 14, Train Loss: 172.8403, Train Acc: 96.73, Val Loss: 44.2562, Val Acc: 95.83\n",
            "Training (Epoch 15)\n",
            "Loading # 500 datas\n"
          ]
        },
        {
          "name": "stderr",
          "output_type": "stream",
          "text": [
            "Training: 100%|██████████| 500/500 [07:29<00:00,  1.11batch/s]\n"
          ]
        },
        {
          "name": "stdout",
          "output_type": "stream",
          "text": [
            "  * Training epoch took: 0:07:29\n"
          ]
        },
        {
          "name": "stderr",
          "output_type": "stream",
          "text": [
            "Validating: 100%|██████████| 125/125 [01:38<00:00,  1.27batch/s]\n"
          ]
        },
        {
          "name": "stdout",
          "output_type": "stream",
          "text": [
            "  * Validation took: 0:01:38\n",
            "Epoch 15, Train Loss: 172.8161, Train Acc: 96.76, Val Loss: 44.4835, Val Acc: 95.63\n",
            "Training (Epoch 16)\n",
            "Loading # 500 datas\n"
          ]
        },
        {
          "name": "stderr",
          "output_type": "stream",
          "text": [
            "Training: 100%|██████████| 500/500 [07:29<00:00,  1.11batch/s]\n"
          ]
        },
        {
          "name": "stdout",
          "output_type": "stream",
          "text": [
            "  * Training epoch took: 0:07:29\n"
          ]
        },
        {
          "name": "stderr",
          "output_type": "stream",
          "text": [
            "Validating: 100%|██████████| 125/125 [01:38<00:00,  1.28batch/s]\n"
          ]
        },
        {
          "name": "stdout",
          "output_type": "stream",
          "text": [
            "  * Validation took: 0:01:38\n",
            "Epoch 16, Train Loss: 171.9794, Train Acc: 96.94, Val Loss: 44.1938, Val Acc: 95.93\n",
            "Training (Epoch 17)\n",
            "Loading # 500 datas\n"
          ]
        },
        {
          "name": "stderr",
          "output_type": "stream",
          "text": [
            "Training: 100%|██████████| 500/500 [07:30<00:00,  1.11batch/s]\n"
          ]
        },
        {
          "name": "stdout",
          "output_type": "stream",
          "text": [
            "  * Training epoch took: 0:07:30\n"
          ]
        },
        {
          "name": "stderr",
          "output_type": "stream",
          "text": [
            "Validating: 100%|██████████| 125/125 [01:39<00:00,  1.26batch/s]\n"
          ]
        },
        {
          "name": "stdout",
          "output_type": "stream",
          "text": [
            "  * Validation took: 0:01:39\n",
            "Epoch 17, Train Loss: 171.1905, Train Acc: 97.07, Val Loss: 44.2203, Val Acc: 95.90\n",
            "Training (Epoch 18)\n",
            "Loading # 500 datas\n"
          ]
        },
        {
          "name": "stderr",
          "output_type": "stream",
          "text": [
            "Training: 100%|██████████| 500/500 [07:33<00:00,  1.10batch/s]\n"
          ]
        },
        {
          "name": "stdout",
          "output_type": "stream",
          "text": [
            "  * Training epoch took: 0:07:33\n"
          ]
        },
        {
          "name": "stderr",
          "output_type": "stream",
          "text": [
            "Validating: 100%|██████████| 125/125 [01:39<00:00,  1.26batch/s]\n"
          ]
        },
        {
          "name": "stdout",
          "output_type": "stream",
          "text": [
            "  * Validation took: 0:01:39\n",
            "Epoch 18, Train Loss: 170.5391, Train Acc: 97.18, Val Loss: 44.1302, Val Acc: 95.85\n",
            "Training (Epoch 19)\n",
            "Loading # 500 datas\n"
          ]
        },
        {
          "name": "stderr",
          "output_type": "stream",
          "text": [
            "Training: 100%|██████████| 500/500 [07:36<00:00,  1.10batch/s]\n"
          ]
        },
        {
          "name": "stdout",
          "output_type": "stream",
          "text": [
            "  * Training epoch took: 0:07:36\n"
          ]
        },
        {
          "name": "stderr",
          "output_type": "stream",
          "text": [
            "Validating: 100%|██████████| 125/125 [01:39<00:00,  1.26batch/s]\n"
          ]
        },
        {
          "name": "stdout",
          "output_type": "stream",
          "text": [
            "  * Validation took: 0:01:39\n",
            "Epoch 00019: reducing learning rate of group 0 to 3.5000e-05.\n",
            "Epoch 19, Train Loss: 170.6490, Train Acc: 97.18, Val Loss: 45.2735, Val Acc: 94.90\n",
            "Training (Epoch 20)\n",
            "Loading # 500 datas\n"
          ]
        },
        {
          "name": "stderr",
          "output_type": "stream",
          "text": [
            "Training: 100%|██████████| 500/500 [07:33<00:00,  1.10batch/s]\n"
          ]
        },
        {
          "name": "stdout",
          "output_type": "stream",
          "text": [
            "  * Training epoch took: 0:07:33\n"
          ]
        },
        {
          "name": "stderr",
          "output_type": "stream",
          "text": [
            "Validating: 100%|██████████| 125/125 [01:39<00:00,  1.26batch/s]\n"
          ]
        },
        {
          "name": "stdout",
          "output_type": "stream",
          "text": [
            "  * Validation took: 0:01:39\n",
            "Epoch 20, Train Loss: 169.1167, Train Acc: 97.51, Val Loss: 43.6994, Val Acc: 96.25\n",
            "Training (Epoch 21)\n",
            "Loading # 500 datas\n"
          ]
        },
        {
          "name": "stderr",
          "output_type": "stream",
          "text": [
            "Training: 100%|██████████| 500/500 [07:33<00:00,  1.10batch/s]\n"
          ]
        },
        {
          "name": "stdout",
          "output_type": "stream",
          "text": [
            "  * Training epoch took: 0:07:33\n"
          ]
        },
        {
          "name": "stderr",
          "output_type": "stream",
          "text": [
            "Validating: 100%|██████████| 125/125 [01:38<00:00,  1.27batch/s]\n"
          ]
        },
        {
          "name": "stdout",
          "output_type": "stream",
          "text": [
            "  * Validation took: 0:01:38\n",
            "Epoch 21, Train Loss: 168.3403, Train Acc: 97.65, Val Loss: 43.5780, Val Acc: 96.35\n",
            "Training (Epoch 22)\n",
            "Loading # 500 datas\n"
          ]
        },
        {
          "name": "stderr",
          "output_type": "stream",
          "text": [
            "Training: 100%|██████████| 500/500 [07:30<00:00,  1.11batch/s]\n"
          ]
        },
        {
          "name": "stdout",
          "output_type": "stream",
          "text": [
            "  * Training epoch took: 0:07:30\n"
          ]
        },
        {
          "name": "stderr",
          "output_type": "stream",
          "text": [
            "Validating: 100%|██████████| 125/125 [01:37<00:00,  1.28batch/s]\n"
          ]
        },
        {
          "name": "stdout",
          "output_type": "stream",
          "text": [
            "  * Validation took: 0:01:37\n",
            "Epoch 22, Train Loss: 167.9260, Train Acc: 97.72, Val Loss: 43.6014, Val Acc: 96.32\n",
            "Training (Epoch 23)\n",
            "Loading # 500 datas\n"
          ]
        },
        {
          "name": "stderr",
          "output_type": "stream",
          "text": [
            "Training: 100%|██████████| 500/500 [07:30<00:00,  1.11batch/s]\n"
          ]
        },
        {
          "name": "stdout",
          "output_type": "stream",
          "text": [
            "  * Training epoch took: 0:07:30\n"
          ]
        },
        {
          "name": "stderr",
          "output_type": "stream",
          "text": [
            "Validating: 100%|██████████| 125/125 [01:37<00:00,  1.28batch/s]\n"
          ]
        },
        {
          "name": "stdout",
          "output_type": "stream",
          "text": [
            "  * Validation took: 0:01:37\n",
            "Epoch 23, Train Loss: 167.8789, Train Acc: 97.76, Val Loss: 43.8662, Val Acc: 96.02\n",
            "Training (Epoch 24)\n",
            "Loading # 500 datas\n"
          ]
        },
        {
          "name": "stderr",
          "output_type": "stream",
          "text": [
            "Training: 100%|██████████| 500/500 [07:29<00:00,  1.11batch/s]\n"
          ]
        },
        {
          "name": "stdout",
          "output_type": "stream",
          "text": [
            "  * Training epoch took: 0:07:29\n"
          ]
        },
        {
          "name": "stderr",
          "output_type": "stream",
          "text": [
            "Validating: 100%|██████████| 125/125 [01:38<00:00,  1.27batch/s]\n"
          ]
        },
        {
          "name": "stdout",
          "output_type": "stream",
          "text": [
            "  * Validation took: 0:01:38\n",
            "Epoch 24, Train Loss: 167.4068, Train Acc: 97.85, Val Loss: 43.5611, Val Acc: 96.22\n",
            "Training (Epoch 25)\n",
            "Loading # 500 datas\n"
          ]
        },
        {
          "name": "stderr",
          "output_type": "stream",
          "text": [
            "Training: 100%|██████████| 500/500 [07:32<00:00,  1.10batch/s]\n"
          ]
        },
        {
          "name": "stdout",
          "output_type": "stream",
          "text": [
            "  * Training epoch took: 0:07:32\n"
          ]
        },
        {
          "name": "stderr",
          "output_type": "stream",
          "text": [
            "Validating: 100%|██████████| 125/125 [01:39<00:00,  1.26batch/s]"
          ]
        },
        {
          "name": "stdout",
          "output_type": "stream",
          "text": [
            "  * Validation took: 0:01:39\n",
            "Epoch 25, Train Loss: 166.8350, Train Acc: 98.00, Val Loss: 43.5928, Val Acc: 96.27\n",
            "Training complete in 3:51:20\n",
            "Best validation accuracy: 96.35%\n"
          ]
        },
        {
          "name": "stderr",
          "output_type": "stream",
          "text": [
            "\n"
          ]
        }
      ],
      "source": [
        "# Set up hyperparameters and data loaders\n",
        "# TUNABLE:\n",
        "# lr = 2e-4\n",
        "lr = 5e-5\n",
        "\n",
        "# TUNABLE:\n",
        "epochs = 25\n",
        "# TUNABLE: original 64\n",
        "batch_size = 48\n",
        "# TUNABLE:\n",
        "factor = 0.7\n",
        "# TUNABLE:\n",
        "patience = 5\n",
        "device = torch.device('cuda' if torch.cuda.is_available() else 'cpu')\n",
        "print(f\"Using device: {device}\")\n",
        "# transform = transforms.Compose([\n",
        "#     transforms.Resize((480, 480)),\n",
        "#     transforms.ToTensor(),\n",
        "#     transforms.Normalize(mean=[0.485, 0.456, 0.406], std=[0.229, 0.224, 0.225])\n",
        "# ])\n",
        "\n",
        "# Define the transformations to be applied to the data\n",
        "transform = transforms.Compose([\n",
        "    transforms.Grayscale(num_output_channels=3),\n",
        "    transforms.Resize((480, 480)),\n",
        "    transforms.ToTensor(),\n",
        "    transforms.Normalize(mean=[0.485, 0.456, 0.406], std=[0.229, 0.224, 0.225])\n",
        "])\n",
        "\n",
        "# create COVIDDataset object\n",
        "# TUNABLE: --> can try different datasets\n",
        "dataset = COVIDDataset('train.txt', transform=transform)\n",
        "\n",
        "# get size of dataset\n",
        "dataset_size = len(dataset)\n",
        "\n",
        "# split dataset into train and validation sets\n",
        "train_size = int(0.8 * dataset_size)\n",
        "val_size = dataset_size - train_size\n",
        "train_dataset, val_dataset = data.random_split(dataset, [train_size, val_size])\n",
        "\n",
        "\n",
        "# train_loader = DataLoader(train_dataset, batch_size=batch_size, shuffle=True, num_workers=4)\n",
        "# val_loader = DataLoader(val_dataset, batch_size=batch_size, shuffle=False, num_workers=4)\n",
        "train_loader = DataLoader(train_dataset, batch_size=batch_size, shuffle=True)\n",
        "val_loader = DataLoader(val_dataset, batch_size=batch_size, shuffle=False)\n",
        "\n",
        "# Set up model, optimizer, and loss function\n",
        "model = COVIDNet().to(device)\n",
        "optimizer = optim.Adam(model.parameters(), lr=lr)\n",
        "\n",
        "# TUNABLE:\n",
        "criterion = F.cross_entropy\n",
        "#criterion = F.mse_loss\n",
        "\n",
        "# Train the model\n",
        "scheduler = optim.lr_scheduler.ReduceLROnPlateau(optimizer, factor=factor, patience=patience, verbose=True)\n",
        "best_acc = 0\n",
        "\n",
        "# record training and validation losses and accuracies\n",
        "train_losses = []\n",
        "val_losses = []\n",
        "train_accs = []\n",
        "val_accs = []\n",
        "start = time.time()\n",
        "print(f\"Began training for {epochs} epochs\")\n",
        "for epoch in range(1, epochs + 1):\n",
        "    print(f'Training (Epoch {epoch})')\n",
        "    torch.cuda.empty_cache()\n",
        "\n",
        "    train_loss, train_acc = train(model, train_loader, optimizer, criterion, device)    \n",
        "    val_loss, val_acc = validate(model, val_loader, criterion, device)\n",
        "\n",
        "    # record training and validation losses and accuracies\n",
        "    train_losses.append(train_loss)\n",
        "    val_losses.append(val_loss)\n",
        "    train_accs.append(train_acc)\n",
        "    val_accs.append(val_acc)\n",
        "\n",
        "    scheduler.step(val_loss)\n",
        "    \n",
        "    print(f'Epoch {epoch}, Train Loss: {train_loss:.4f}, Train Acc: {train_acc:.2f}, Val Loss: {val_loss:.4f}, Val Acc: {val_acc:.2f}')\n",
        "    \n",
        "    if val_acc > best_acc:\n",
        "        best_acc = val_acc\n",
        "        torch.save(model.state_dict(), 'new_covid_net.pt')\n",
        "\n",
        "print(\"Training complete in {}\".format(format_time(time.time() - start)))\n",
        "print(f'Best validation accuracy: {best_acc:.2f}%')"
      ]
    },
    {
      "cell_type": "markdown",
      "metadata": {
        "id": "7368b_xCDfiL"
      },
      "source": [
        "Plot"
      ]
    },
    {
      "cell_type": "code",
      "execution_count": 17,
      "metadata": {
        "colab": {
          "base_uri": "https://localhost:8080/",
          "height": 322
        },
        "id": "c7VwF-ojDe9t",
        "outputId": "4c74dc57-b2b2-41da-e7d4-c00a941e784a"
      },
      "outputs": [
        {
          "data": {
            "image/png": "[encoded data removed]",
            "text/plain": [
              "<Figure size 1000x500 with 2 Axes>"
            ]
          },
          "metadata": {},
          "output_type": "display_data"
        }
      ],
      "source": [
        "# plot training and validation losses and accuracies\n",
        "now = datetime.datetime.now()\n",
        "now = now.strftime(\"%Y-%m-%d_%H%M%S\")\n",
        "\n",
        "plt.figure(figsize=(10, 5))\n",
        "plt.subplot(1, 2, 1)\n",
        "plt.title(\"Loss vs. Epochs (CovidNet)\")\n",
        "plt.plot(train_losses, label='Training loss')\n",
        "plt.plot(val_losses, label='Validation loss')\n",
        "plt.legend()\n",
        "plt.subplot(1, 2, 2)\n",
        "plt.title(\"Accuracy vs. Epochs (CovidNet)\")\n",
        "plt.plot(train_accs, label='Training accuracy')\n",
        "plt.plot(val_accs, label='Validation accuracy')\n",
        "plt.legend()\n",
        "plt.savefig('./covid_plots/' + f'loss_covid_net_{lr}_{batch_size}.png')\n",
        "plt.show()"
      ]
    },
    {
      "cell_type": "markdown",
      "metadata": {
        "id": "JTvV6eir6Tdq"
      },
      "source": [
        "Test data"
      ]
    },
    {
      "cell_type": "code",
      "execution_count": 19,
      "metadata": {
        "colab": {
          "base_uri": "https://localhost:8080/",
          "height": 0
        },
        "id": "E4QnpJsQ6Stf",
        "outputId": "a79e86f8-9ee6-445f-f0b9-a22f0365ce6e"
      },
      "outputs": [
        {
          "name": "stderr",
          "output_type": "stream",
          "text": [
            "Validating: 100%|██████████| 7/7 [00:24<00:00,  3.46s/batch]"
          ]
        },
        {
          "name": "stdout",
          "output_type": "stream",
          "text": [
            "  * Validation took: 0:00:24\n",
            "Test loss: 2.8933, Test accuracy: 89.25%\n"
          ]
        },
        {
          "name": "stderr",
          "output_type": "stream",
          "text": [
            "\n"
          ]
        }
      ],
      "source": [
        "# test data\n",
        "test_dataset = COVIDDataset('test.txt', transform=transform)\n",
        "# test_loader = DataLoader(test_dataset, batch_size=64, shuffle=False, num_workers=4)\n",
        "test_loader = DataLoader(test_dataset, batch_size=64, shuffle=False)\n",
        "\n",
        "# load best model\n",
        "model.load_state_dict(torch.load('new_covid_net.pt'))\n",
        "\n",
        "# evaluate model on test set\n",
        "test_loss, test_acc = validate(model, test_loader, criterion, device)\n",
        "print(f'Test loss: {test_loss:.4f}, Test accuracy: {test_acc:.2f}%')"
      ]
    }
  ],
  "metadata": {
    "accelerator": "GPU",
    "colab": {
      "provenance": []
    },
    "gpuClass": "standard",
    "kernelspec": {
      "display_name": "Python 3",
      "name": "python3"
    },
    "language_info": {
      "codemirror_mode": {
        "name": "ipython",
        "version": 3
      },
      "file_extension": ".py",
      "mimetype": "text/x-python",
      "name": "python",
      "nbconvert_exporter": "python",
      "pygments_lexer": "ipython3",
      "version": "3.9.13"
    }
  },
  "nbformat": 4,
  "nbformat_minor": 0
}
